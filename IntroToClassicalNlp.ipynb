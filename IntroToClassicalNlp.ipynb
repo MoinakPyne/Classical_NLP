{
 "cells": [
  {
   "cell_type": "markdown",
   "metadata": {},
   "source": [
    "## Introduction to Classical Natural Language Processing ##\n",
    "\n",
    "This notebook is a hands-on introduction to Classical NLP, that is, non-deep learning techniques of NLP.  It is designed to be used with the edX course on Natural Language Processing, from Microsoft.  \n",
    "\n",
    "The topics covered align with the NLP tasks related to the various stages of the NLP pipeline: text processing, text exploration, building features, and application level tasks.\n"
   ]
  },
  {
   "cell_type": "markdown",
   "metadata": {},
   "source": [
    "## 1. Introduction ##\n"
   ]
  },
  {
   "cell_type": "markdown",
   "metadata": {},
   "source": [
    "** 1.1 NLTK Setup  **\n",
    "   - NLTK is included with the Anaconda Distribution of Python, or can be downloaded directly from nltk.org. \n",
    "   - Once NLTK is installed, the text data files (corpora) should be downloaded.  See the following cell to start the download.\n",
    "   "
   ]
  },
  {
   "cell_type": "code",
   "execution_count": 3,
   "metadata": {},
   "outputs": [
    {
     "name": "stdout",
     "output_type": "stream",
     "text": [
      "showing info https://raw.githubusercontent.com/nltk/nltk_data/gh-pages/index.xml\n"
     ]
    },
    {
     "data": {
      "text/plain": [
       "True"
      ]
     },
     "execution_count": 3,
     "metadata": {},
     "output_type": "execute_result"
    }
   ],
   "source": [
    "import nltk\n",
    "\n",
    "# uncomment the line below to download NLTK resources the first time NLTK is used and RUN this cell.\n",
    "# when the \"NLTK Downloader\" dialog appears (takes 10-20 seconds), click on the \"download\" button \n",
    "nltk.download()"
   ]
  },
  {
   "cell_type": "markdown",
   "metadata": {},
   "source": [
    "** 1.2 Crash Course in Regular Expressions **\n",
    "\n",
    "If you are new to using regular expressions, or would like a quick refresher, you can study the examples\n",
    "and resulting output in the code cell below.\n",
    "\n",
    "Here is a cheat sheet for the SEARCH BASICS (code examples follow below):\n",
    "\n",
    "    Operator   Meaning       Example  Example meaning\n",
    "    \n",
    "    +          one or more   a+       look for 1 or more \"a\" characters \n",
    "    *          zero or more  a*       look for 0 or more \"a\" characters\n",
    "    ?          optional      a?       look for 0 or 1 \"a\" characters\n",
    "    []         choose 1      [abc]    look for \"a\" or \"b\" or \"c\"\n",
    "    [-]        range         [a-z]    look for any character between \"a\" and \"z\"\n",
    "    [^]        not           [^a]     look for character that is not \"a\"\n",
    "    ()         grouping      (a-z)+   look for one of more occurences of chars between \"a\" and \"z\"\n",
    "    (|)        or operator   (ey|ax)  look for strings \"ey\" or \"ax\"\n",
    "    \n",
    "    ab         follow        ab       look for character \"a\" followed by character \"b\"\n",
    "    ^          start         ^a       look for character \"a\" at start of string/line\n",
    "    $          end           a$       look for character \"a\" at end of string/line\n",
    "    \\s         whitespace    \\sa      look for whitespace character followed by \"a\"\n",
    "    .          any character a.b      look for \"a\" followed by any char followed by \"b\"\n",
    "    \n",
    "Common Uses:\n",
    "   - re.search     finds first matching object\n",
    "   - re.findall    returns all matching objects\n",
    "   - re.sub        replaces matches with replacement string\n",
    "    "
   ]
  },
  {
   "cell_type": "code",
   "execution_count": 1,
   "metadata": {},
   "outputs": [
    {
     "data": {
      "text/plain": [
       "<_sre.SRE_Match object; span=(12, 13), match='x'>"
      ]
     },
     "execution_count": 1,
     "metadata": {},
     "output_type": "execute_result"
    }
   ],
   "source": [
    "import re\n",
    "\n",
    "# search for single char\n",
    "re.search(r\"x\", \"this is an extra helping\")"
   ]
  },
  {
   "cell_type": "code",
   "execution_count": 2,
   "metadata": {},
   "outputs": [
    {
     "data": {
      "text/plain": [
       "'x'"
      ]
     },
     "execution_count": 2,
     "metadata": {},
     "output_type": "execute_result"
    }
   ],
   "source": [
    "# search for single char\n",
    "re.search(r\"x\", \"this is an extra helping\").group(0)     # gives easier-to-read output"
   ]
  },
  {
   "cell_type": "code",
   "execution_count": 4,
   "metadata": {},
   "outputs": [
    {
     "data": {
      "text/plain": [
       "['c', 'a', 's', 'h']"
      ]
     },
     "execution_count": 4,
     "metadata": {},
     "output_type": "execute_result"
    }
   ],
   "source": [
    "# find all occurences of any character between \"a\" and \"z\"\n",
    "import re \n",
    "\n",
    "re.findall(r\"[a-z]\", \"$34.33 cash.\")"
   ]
  },
  {
   "cell_type": "code",
   "execution_count": 7,
   "metadata": {},
   "outputs": [
    {
     "data": {
      "text/plain": [
       "['name', 'phone']"
      ]
     },
     "execution_count": 7,
     "metadata": {},
     "output_type": "execute_result"
    }
   ],
   "source": [
    "# find all occurences of either \"name:\" or \"phone:\"\n",
    "re.findall(r\"(name|phone):\", \"My name: Joe, my phone: (312)555-1212\")"
   ]
  },
  {
   "cell_type": "code",
   "execution_count": 8,
   "metadata": {},
   "outputs": [
    {
     "data": {
      "text/plain": [
       "['Lion', 'lion']"
      ]
     },
     "execution_count": 8,
     "metadata": {},
     "output_type": "execute_result"
    }
   ],
   "source": [
    "# find \"lion\", \"lions\" or \"Lion\", or \"Lions\"\n",
    "re.findall(r\"([Ll]ion)s?\", \"Give it to the Lions or the lion.\")"
   ]
  },
  {
   "cell_type": "code",
   "execution_count": 9,
   "metadata": {},
   "outputs": [
    {
     "data": {
      "text/plain": [
       "'xey.  x know this regex stuff...'"
      ]
     },
     "execution_count": 9,
     "metadata": {},
     "output_type": "execute_result"
    }
   ],
   "source": [
    "# replace allll lowercase letters with \"x\"\n",
    "re.sub(\"[A-Z]\", \"x\", \"Hey.  I know this regex stuff...\")"
   ]
  },
  {
   "cell_type": "markdown",
   "metadata": {},
   "source": [
    "## 2. Text Processing ##\n",
    "\n",
    "This section introduces some of the tasks and techniques used to acquire, clean, and normalize the text data."
   ]
  },
  {
   "cell_type": "markdown",
   "metadata": {},
   "source": [
    "** 2.1 Data Acquisition **\n",
    "\n",
    "Issues:\n",
    "   - how do I find the data I need?\n",
    "   - is it already in digital form, or will it need OCR?\n",
    "   - how much will it cost?  \n",
    "   - will it be updated/expanded over time?  More costs?\n",
    "   - (if CUSTOMER DATA), do I have the legal / privacy rights needed to use the data in the way I need for my application? \n",
    "   - do I have the safeguards needed to securely store the data?\n",
    "  \n"
   ]
  },
  {
   "cell_type": "code",
   "execution_count": 10,
   "metadata": {},
   "outputs": [
    {
     "name": "stdout",
     "output_type": "stream",
     "text": [
      "gutenberg book ids= ['austen-emma.txt', 'austen-persuasion.txt', 'austen-sense.txt', 'bible-kjv.txt', 'blake-poems.txt', 'bryant-stories.txt', 'burgess-busterbrown.txt', 'carroll-alice.txt', 'chesterton-ball.txt', 'chesterton-brown.txt', 'chesterton-thursday.txt', 'edgeworth-parents.txt', 'melville-moby_dick.txt', 'milton-paradise.txt', 'shakespeare-caesar.txt', 'shakespeare-hamlet.txt', 'shakespeare-macbeth.txt', 'whitman-leaves.txt']\n"
     ]
    }
   ],
   "source": [
    "import nltk\n",
    "\n",
    "# shows how to access one of the gutenberg books included in NLTK\n",
    "print(\"gutenberg book ids=\", nltk.corpus.gutenberg.fileids())"
   ]
  },
  {
   "cell_type": "code",
   "execution_count": 11,
   "metadata": {},
   "outputs": [
    {
     "name": "stdout",
     "output_type": "stream",
     "text": [
      "len(alice)= 34110\n",
      "['[', 'Alice', \"'\", 's', 'Adventures', 'in', 'Wonderland', 'by', 'Lewis', 'Carroll', '1865', ']', 'CHAPTER', 'I', '.', 'Down', 'the', 'Rabbit', '-', 'Hole', 'Alice', 'was', 'beginning', 'to', 'get', 'very', 'tired', 'of', 'sitting', 'by', 'her', 'sister', 'on', 'the', 'bank', ',', 'and', 'of', 'having', 'nothing', 'to', 'do', ':', 'once', 'or', 'twice', 'she', 'had', 'peeped', 'into', 'the', 'book', 'her', 'sister', 'was', 'reading', ',', 'but', 'it', 'had', 'no', 'pictures', 'or', 'conversations', 'in', 'it', ',', \"'\", 'and', 'what', 'is', 'the', 'use', 'of', 'a', 'book', \",'\", 'thought', 'Alice', \"'\", 'without', 'pictures', 'or', 'conversation', \"?'\", 'So', 'she', 'was', 'considering', 'in', 'her', 'own', 'mind', '(', 'as', 'well', 'as', 'she', 'could', ',']\n"
     ]
    }
   ],
   "source": [
    "# load words from \"Alice in Wonderland\"\n",
    "\n",
    "alice = nltk.corpus.gutenberg.words(\"carroll-alice.txt\")\n",
    "print(\"len(alice)=\", len(alice))\n",
    "print(alice[:100])"
   ]
  },
  {
   "cell_type": "code",
   "execution_count": 12,
   "metadata": {},
   "outputs": [
    {
     "name": "stdout",
     "output_type": "stream",
     "text": [
      "len(grail)= 16967\n",
      "['SCENE', '1', ':', '[', 'wind', ']', '[', 'clop', 'clop', 'clop', ']', 'KING', 'ARTHUR', ':', 'Whoa', 'there', '!', '[', 'clop', 'clop', 'clop', ']', 'SOLDIER', '#', '1', ':', 'Halt', '!', 'Who', 'goes', 'there', '?', 'ARTHUR', ':', 'It', 'is', 'I', ',', 'Arthur', ',', 'son', 'of', 'Uther', 'Pendragon', ',', 'from', 'the', 'castle', 'of', 'Camelot', '.', 'King', 'of', 'the', 'Britons', ',', 'defeator', 'of', 'the', 'Saxons', ',', 'sovereign', 'of', 'all', 'England', '!', 'SOLDIER', '#', '1', ':', 'Pull', 'the', 'other', 'one', '!', 'ARTHUR', ':', 'I', 'am', ',', '...', 'and', 'this', 'is', 'my', 'trusty', 'servant', 'Patsy', '.', 'We', 'have', 'ridden', 'the', 'length', 'and', 'breadth', 'of', 'the', 'land', 'in']\n"
     ]
    }
   ],
   "source": [
    "# load words from \"Monty Python and the Holy Grail\"\n",
    "\n",
    "grail = nltk.corpus.webtext.words(\"grail.txt\")\n",
    "print(\"len(grail)=\", len(grail))\n",
    "\n",
    "print(grail[:100])"
   ]
  },
  {
   "cell_type": "markdown",
   "metadata": {},
   "source": [
    "** 2.2 Plain Text Extraction **\n",
    "\n",
    "If your text data lives in a non-plain text file (WORD, POWERPOINT, PDF, HTML, etc.), you will need to use a “filter” to extract the plain text from the file.\n",
    "\n",
    "Python has a number of libraries to extract plain text from popular file formats, but they are take searching and supporting code to use.  "
   ]
  },
  {
   "cell_type": "markdown",
   "metadata": {},
   "source": [
    "** 2.3 Word and Sentence Segmentation (Tokenization) **\n",
    "\n",
    "Word Segmentation Issues:\n",
    "   - Some languages don’t white space characters\n",
    "   - Words with hyphens or apostrophes (Who’s at the drive-in?)\n",
    "   - Numbers, currency, percentages, dates, times (04/01/2018, $55,000.00)\n",
    "   - Ellipses, special characters\n",
    "   \n",
    "Sentence Segmentation Issues:\n",
    "   - Quoted speech within a sentence\n",
    "   - Abbreviations with periods (The Ph.D. was D.O.A) \n",
    "\n",
    "Tokenization Techniques  \n",
    "   - Perl script (50 lines) with RegEx         (Grefenstette, 1999)  \n",
    "   - maxmatch Algorithm: \n",
    "\n",
    "         themanranafterit  ->    the man ran after it  \n",
    "         thetabledownthere ->    theta bled own there      (Palmer, 2000)  \n",
    "   "
   ]
  },
  {
   "cell_type": "code",
   "execution_count": 13,
   "metadata": {},
   "outputs": [
    {
     "name": "stdout",
     "output_type": "stream",
     "text": [
      "['the', 'man', 'ran', 'after', 'it']\n",
      "['theta', 'bled', 'own', 'there']\n"
     ]
    }
   ],
   "source": [
    "# code example: simple version of maxmatch algorithm for tokenization (word segmentation)\n",
    "def tokenize(str, dict):\n",
    "    s = 0\n",
    "    words = []\n",
    "    \n",
    "    while (s < len(str)):\n",
    "        found = False\n",
    "        \n",
    "        # find biggest word in dict that matches str[s:xxx]\n",
    "        for word in dict:\n",
    "            lw = len(word)\n",
    "            if (str[s:s+lw] == word):\n",
    "                words.append(word)\n",
    "                s += lw\n",
    "                found = True\n",
    "                break\n",
    "        if (not found):\n",
    "            words.append(str[s])\n",
    "            s += 1\n",
    "\n",
    "    print(words)\n",
    "    #return words\n",
    "\n",
    "# small dictionary of known words, longest words first\n",
    "dict = [\"before\", \"table\", \"theta\", \"after\", \"where\", \"there\", \"bled\", \"said\", \"lead\", \"man\", \"her\", \"own\", \"the\", \"ran\", \"it\"]\n",
    "\n",
    "# this algorithm is designed to work with languages that don't have whitespace characters\n",
    "# so simulate that in our test\n",
    "tokenize(\"themanranafterit\", dict)      # works!\n",
    "tokenize(\"thetabledownthere\", dict)     # fails!\n"
   ]
  },
  {
   "cell_type": "code",
   "execution_count": 14,
   "metadata": {},
   "outputs": [
    {
     "data": {
      "text/plain": [
       "['the',\n",
       " 'man',\n",
       " ',',\n",
       " 'he',\n",
       " 'ran',\n",
       " 'after',\n",
       " 'it',\n",
       " \"'s\",\n",
       " '$',\n",
       " '3.23',\n",
       " 'dog',\n",
       " 'on',\n",
       " '03/23/2016',\n",
       " '.']"
      ]
     },
     "execution_count": 14,
     "metadata": {},
     "output_type": "execute_result"
    }
   ],
   "source": [
    "# NLTK example: WORD segmentation\n",
    "\n",
    "nltk.word_tokenize(\"the man, he ran after it's $3.23 dog on 03/23/2016.\")\n",
    "\n"
   ]
  },
  {
   "cell_type": "code",
   "execution_count": 15,
   "metadata": {},
   "outputs": [
    {
     "data": {
      "text/plain": [
       "['The man ran after it.', 'The table down there?', 'Yes, down there!']"
      ]
     },
     "execution_count": 15,
     "metadata": {},
     "output_type": "execute_result"
    }
   ],
   "source": [
    "# NLTK example: SENTENCE segmentation\n",
    "\n",
    "nltk.sent_tokenize('The man ran after it.  The table down there?  Yes, down there!')\n",
    "\n"
   ]
  },
  {
   "cell_type": "markdown",
   "metadata": {},
   "source": [
    "** 2.4 Stopword Removal **\n",
    "\n",
    "Stopwords are common words that are \"not interesting\" for the app/task at hand.  \n",
    "\n",
    "Easy part – removing words that appear in list.  \n",
    "Tricky part – what to use for stop words?  App-dependent.  Standard lists, high-frequency words in your text, …  "
   ]
  },
  {
   "cell_type": "code",
   "execution_count": 22,
   "metadata": {},
   "outputs": [
    {
     "data": {
      "text/plain": [
       "'test stop word removal code.'"
      ]
     },
     "execution_count": 22,
     "metadata": {},
     "output_type": "execute_result"
    }
   ],
   "source": [
    "# code example: simple algorithm for removing stopwords\n",
    "stoppers = \"a is of the this\".split()\n",
    "\n",
    "def removeStopWords(stopWords, txt):\n",
    "    newtxt = ' '.join([word for word in txt.split() if word not in stopWords])\n",
    "    return newtxt\n",
    "\n",
    "removeStopWords(stoppers, \"this is a test of the stop word removal code.\")"
   ]
  },
  {
   "cell_type": "code",
   "execution_count": 23,
   "metadata": {},
   "outputs": [
    {
     "name": "stdout",
     "output_type": "stream",
     "text": [
      "len(stops)= 153\n"
     ]
    },
    {
     "data": {
      "text/plain": [
       "'test stop word removal code.'"
      ]
     },
     "execution_count": 23,
     "metadata": {},
     "output_type": "execute_result"
    }
   ],
   "source": [
    "# NLTK example: removing stopwords\n",
    "from nltk.corpus import stopwords\n",
    "stops = stopwords.words(\"English\")\n",
    "\n",
    "print(\"len(stops)=\", len(stops))\n",
    "\n",
    "removeStopWords(stops, \"this is a test of the stop word removal code.\")"
   ]
  },
  {
   "cell_type": "markdown",
   "metadata": {},
   "source": [
    "** 2.5 Case Removal **\n",
    "\n",
    "Case removal is part of a larger task called *Text Normalization*, which includes:\n",
    "   - case removal\n",
    "   - stemming   (covered in next section)\n",
    "   \n",
    "Goal of Case removal – converting all text to, for example, lower case  "
   ]
  },
  {
   "cell_type": "code",
   "execution_count": 16,
   "metadata": {},
   "outputs": [
    {
     "data": {
      "text/plain": [
       "'the man ran after it.  the table down there?  yes, down there!'"
      ]
     },
     "execution_count": 16,
     "metadata": {},
     "output_type": "execute_result"
    }
   ],
   "source": [
    "# code example: case removal\n",
    "str = 'The man ran after it.  The table down there?  Yes, down there!'\n",
    "str.lower()\n",
    "\n"
   ]
  },
  {
   "cell_type": "markdown",
   "metadata": {},
   "source": [
    "** 2.6 Stemming **\n",
    "   \n",
    "Goal of Stemming:\n",
    "    – stripping off endings and other pieces, called AFFIXES \n",
    "    – for English, this is prefixes and suffixes. \n",
    "    - convert word to its base word, called the LEMMA / STEM (e.g., foxes -> fox)\n",
    "    \n",
    "Porter Stemmer\n",
    "  - 100+ cascading “rewrite” rules  \n",
    "    ational  -> ate    \t(e.g., relational -> relate)  \n",
    "    ing\t     -> <null>\t(e.g., playing -> play)  \n",
    "    sess     -> ss  \t(e.g., grasses -> grass)  \n",
    "   \n"
   ]
  },
  {
   "cell_type": "code",
   "execution_count": 17,
   "metadata": {},
   "outputs": [
    {
     "name": "stdout",
     "output_type": "stream",
     "text": [
      "porter: ['pleas', \"don't\", 'unbuckl', 'your', 'seat-belt', 'while', 'I', 'am', 'driving,', 'he', 'said']\n",
      "\n",
      "lancaster: ['pleas', \"don't\", 'unbuckl', 'yo', 'seat-belt', 'whil', 'i', 'am', 'driving,', 'he', 'said']\n"
     ]
    }
   ],
   "source": [
    "# NLTK example: stemming\n",
    "\n",
    "def stem_with_porter(words):\n",
    "    porter = nltk.PorterStemmer()\n",
    "    new_words = [porter.stem(w) for w in words]\n",
    "    return new_words\n",
    "    \n",
    "def stem_with_lancaster(words):\n",
    "    porter = nltk.LancasterStemmer()\n",
    "    new_words = [porter.stem(w) for w in words]\n",
    "    return new_words    \n",
    "    \n",
    "str = \"Please don't unbuckle your seat-belt while I am driving, he said\"\n",
    "\n",
    "print(\"porter:\", stem_with_porter(str.split()))\n",
    "print()\n",
    "print(\"lancaster:\", stem_with_lancaster(str.split()))\n"
   ]
  },
  {
   "cell_type": "markdown",
   "metadata": {},
   "source": [
    "## 3. Text Exploration ##\n"
   ]
  },
  {
   "cell_type": "markdown",
   "metadata": {},
   "source": [
    "** 3.1 Frequency Analysis **\n",
    "\n",
    "  - Frequency Analysis\n",
    "  - Letter\n",
    "  - Word\n",
    "  - Bigrams\n",
    "  - Plots\n"
   ]
  },
  {
   "cell_type": "code",
   "execution_count": 19,
   "metadata": {},
   "outputs": [
    {
     "data": {
      "image/png": "[encoded data removed]",
      "text/plain": [
       "<Figure size 1440x360 with 1 Axes>"
      ]
     },
     "metadata": {},
     "output_type": "display_data"
    }
   ],
   "source": [
    "# NLTK example: frequence analysis\n",
    "import nltk\n",
    "from nltk.corpus import gutenberg\n",
    "from nltk.probability import FreqDist\n",
    "\n",
    "# get raw text from \"Sense and Sensibility\" by Jane Austen\n",
    "raw = gutenberg.raw(\"austen-sense.txt\")\n",
    "fd_letters = FreqDist(raw)\n",
    "\n",
    "words = gutenberg.words(\"austen-sense.txt\")\n",
    "fd_words = FreqDist(words)\n",
    "sas = nltk.Text(words)\n",
    "\n",
    "# these 2 lines let us size the freq dist plot\n",
    "import matplotlib.pyplot as plt\n",
    "plt.figure(figsize=(20, 5)) \n",
    "\n",
    "# frequency plot for letters from SAS\n",
    "fd_letters.plot(100)"
   ]
  },
  {
   "cell_type": "code",
   "execution_count": 36,
   "metadata": {},
   "outputs": [
    {
     "data": {
      "image/png": "[encoded data removed]",
      "text/plain": [
       "<matplotlib.figure.Figure at 0x1fb6621f9e8>"
      ]
     },
     "metadata": {},
     "output_type": "display_data"
    }
   ],
   "source": [
    "# these 2 lines let us size the freq dist plot\n",
    "import matplotlib.pyplot as plt\n",
    "plt.figure(figsize=(20, 5)) \n",
    "\n",
    "# frequency plot for words from SAS\n",
    "fd_words.plot(50)"
   ]
  },
  {
   "cell_type": "markdown",
   "metadata": {},
   "source": [
    "** 3.2 Collocations **\n",
    "\n",
    "These are interesting word pairs, usually formed by the most common bigrams.  Bigrams are collections of word pairs that occur together in the text. "
   ]
  },
  {
   "cell_type": "code",
   "execution_count": 37,
   "metadata": {},
   "outputs": [
    {
     "name": "stdout",
     "output_type": "stream",
     "text": [
      "Colonel Brandon; Sir John; Lady Middleton; Miss Dashwood; every thing;\n",
      "thousand pounds; dare say; Miss Steeles; said Elinor; Miss Steele;\n",
      "every body; John Dashwood; great deal; Harley Street; Berkeley Street;\n",
      "Miss Dashwoods; young man; Combe Magna; every day; next morning\n"
     ]
    }
   ],
   "source": [
    "# let's look at collocations for our \"Sense and Sensibility\" text\n",
    "sas.collocations() "
   ]
  },
  {
   "cell_type": "markdown",
   "metadata": {},
   "source": [
    "Nice!  \n",
    "\n",
    "Now we are getting a feel for the language and subjects of the text."
   ]
  },
  {
   "cell_type": "code",
   "execution_count": null,
   "metadata": {
    "collapsed": true
   },
   "outputs": [],
   "source": [
    "** 3.3 Long words **\n",
    "\n",
    "Sometimes looking at the long words in a text can be revealing.  Let's try it on sas."
   ]
  },
  {
   "cell_type": "code",
   "execution_count": 46,
   "metadata": {},
   "outputs": [
    {
     "data": {
      "text/plain": [
       "['unpremeditated',\n",
       " 'unsuitableness',\n",
       " 'Disappointment',\n",
       " 'unexhilarating',\n",
       " 'insurmountable',\n",
       " 'inconsiderable',\n",
       " 'thoughtfulness',\n",
       " 'demonstrations',\n",
       " 'unobtrusiveness',\n",
       " 'accomplishment',\n",
       " 'accommodations',\n",
       " 'acknowledgments',\n",
       " 'representations',\n",
       " 'incautiousness',\n",
       " 'inconsiderately']"
      ]
     },
     "execution_count": 46,
     "metadata": {},
     "output_type": "execute_result"
    }
   ],
   "source": [
    "# let's look at long words in the text\n",
    "longWords = [w for w in set(words) if len(w) > 13]\n",
    "longWords[:15]"
   ]
  },
  {
   "cell_type": "markdown",
   "metadata": {},
   "source": [
    "** 3.3 Concordance Views **\n",
    "\n",
    "Concordance views, also called Keywords in Context (KWIC), show the specifed word with the words that surround it in text.  These views can be helpful in understaning how the words are being used in the text.\n",
    "\n",
    "\n"
   ]
  },
  {
   "cell_type": "code",
   "execution_count": 33,
   "metadata": {},
   "outputs": [
    {
     "name": "stdout",
     "output_type": "stream",
     "text": [
      "Displaying 2 of 2 matches:\n",
      "before . She took them all most affectionately by the hand , and expressed gre\n",
      "ed , took her hand , kissed her affectionately several times , and then gave w\n",
      "\n",
      "Displaying 4 of 4 matches:\n",
      "ould not be maintained if their correspondence were to pass through Sir John '\n",
      "ve been Edward ' s gift ; but a correspondence between them by letter , could \n",
      "she had no doubt , and of their correspondence she was not astonished to hear \n",
      "e of Edward afforded her by the correspondence , for his name was not even men\n",
      "\n",
      "Displaying 25 of 36 matches:\n",
      " not know what he was talking of , I dare say ; ten to one but he was light - \n",
      "l . The assistance he thought of , I dare say , was only such as might be reas\n",
      "g , if I have plenty of money , as I dare say I shall , we may think about bui\n",
      ", you will make conquests enough , I dare say , one way or other . Poor Brando\n",
      "e . He is the curate of the parish I dare say .\" \" No , THAT he is not . He is\n",
      "m . He was afraid of catching cold I dare say , and invented this trick for ge\n",
      "ve it in my power to return , that I dare not engage for it at all .\" \" Oh ! h\n",
      "and as like him as she can stare . I dare say the Colonel will leave her all h\n",
      "t Miss Williams and , by the bye , I dare say it is , because he looked so con\n",
      " \" are of such a nature -- that -- I dare not flatter myself \"-- He stopt . Mr\n",
      "nd MY wealth are very much alike , I dare say ; and without them , as the worl\n",
      " unites beauty with utility -- and I dare say it is a picturesque one too , be\n",
      ", you know . Not above ten miles , I dare say .\" \" Much nearer thirty ,\" said \n",
      "h my uncle at Weymouth . However , I dare say we should have seen a great deal\n",
      "t if mama had not objected to it , I dare say he would have liked it of all th\n",
      "ill think my question an odd one , I dare say ,\" said Lucy to her one day , as\n",
      "an inquiry into her character .\" \" I dare say you are , and I am sure I do not\n",
      "ave had no idea of it before ; for I dare say he never dropped the smallest hi\n",
      "or she would never approve of it , I dare say . I shall have no fortune , and \n",
      " to Elinor . \" You know his hand , I dare say , a charming one it is ; but tha\n",
      "o well as usual .-- He was tired , I dare say , for he had just filled the she\n",
      "talking of their favourite beaux , I dare say .\" \" No sister ,\" cried Lucy , \"\n",
      "ng significantly round at them , \" I dare say Lucy ' s beau is quite as modest\n",
      " , for you are a party concerned . I dare say you have seen enough of Edward t\n",
      "h pleasure to meet you there ! But I dare say you will go for all that . To be\n",
      "\n"
     ]
    }
   ],
   "source": [
    "# Let's try looking at some of these recent words in a Concordance view\n",
    "sas.concordance(\"affectionately\")\n",
    "print()\n",
    "\n",
    "sas.concordance(\"correspondence\")\n",
    "print()\n",
    "\n",
    "sas.concordance(\"dare\")\n",
    "print()\n",
    "\n"
   ]
  },
  {
   "cell_type": "markdown",
   "metadata": {},
   "source": [
    "** 3.4 Other Exploration Task/Views **"
   ]
  },
  {
   "cell_type": "code",
   "execution_count": 40,
   "metadata": {},
   "outputs": [
    {
     "name": "stdout",
     "output_type": "stream",
     "text": [
      "attention time regard mother love heart opinion sister wishes wife\n",
      "arrival marianne kindness family it marriage sisters sake conduct mind\n"
     ]
    }
   ],
   "source": [
    "# look at words similiar to a word\n",
    "sas.similar(\"affection\")"
   ]
  },
  {
   "cell_type": "code",
   "execution_count": 20,
   "metadata": {},
   "outputs": [
    {
     "data": {
      "image/png": "[encoded data removed]",
      "text/plain": [
       "<Figure size 1080x288 with 1 Axes>"
      ]
     },
     "metadata": {},
     "output_type": "display_data"
    }
   ],
   "source": [
    "# these 2 lines let us size the freq dist plot\n",
    "import matplotlib.pyplot as plt\n",
    "plt.figure(figsize=(15, 4)) \n",
    "\n",
    "# look at words as they appear over time in the book/document\n",
    "sas.dispersion_plot([\"sense\", \"love\", \"heart\", \"listen\", \"man\", \"woman\"])"
   ]
  },
  {
   "cell_type": "markdown",
   "metadata": {},
   "source": [
    "## 4. Building Features ##"
   ]
  },
  {
   "cell_type": "markdown",
   "metadata": {},
   "source": [
    "** 4.1 Bag-of-Words (BOW) **\n",
    "\n",
    "One of the simplest features when dealing with multiple texts (like multiple documents, or multiple sentences within a document), is called Bag-of-Words.  It builds a vocabular from each word in the set of texts, and then a feature for each word, indicate the presence/absence of that word within each text. Sometimes, the count of the word is used in place of a presence flag.\n",
    "\n",
    "A common way to represent a set of features like this is called a One-Hot vector.  For example, lets say our vocabular from our set of texts is:\n",
    "\n",
    "    today, here, I, a, fine, sun, moon, bird, saw\n",
    "\n",
    "The sentence we want to build a BOW for is:\n",
    "\n",
    "    I saw a bird today.  \n",
    "    \n",
    "Using a 1/0 for each word in the vocabulary, our BOW encoded as a one-hot vector would be:\n",
    "\n",
    "    1 0 1 1 0 0 1 1\n"
   ]
  },
  {
   "cell_type": "markdown",
   "metadata": {},
   "source": [
    "** 4.2 N-Grams **\n",
    "\n",
    "N-grams represent the sequence of N words that are found in a text.  They are commonly used as a model of the text language since they represent the frequence of words/phrases appearing in the text.  \n",
    "\n",
    "Common types of N-grams:\n",
    "\n",
    "unigrams   - these are the set of single words appearing in the text\n",
    "bigrams    - these are the set of word pairs, like \"good day\" or \"big deal\", from the text\n",
    "trigrams   - these are the set of word triples, like \"really good food\", from the text\n",
    "\n",
    "To build bigrams for a text, you need to extract all possible word pairs from the text and count how many times each pair occurs.  Then, you can use the top N words (1000), or the top percent (50%) as your language model."
   ]
  },
  {
   "cell_type": "markdown",
   "metadata": {},
   "source": [
    "** 4.3 Morphological Parsing **\n",
    "\n",
    "**Goal**: convert input word into its morphological parts.  For example:  “geese” would return goose + N + PL  \n",
    "\n",
    "\n",
    "Morphological Parsing:\n",
    "geese  ->  goose + N + PL  \n",
    "caught ->  catch + V + PastPart  \n",
    "\n",
    "Morphological parsing is related to stemming, but instead of mapping the word variants to a stem word, it labels  \n",
    "the stem word and its affixes.\n",
    "\n",
    "Morphological parsing, even for English, is quite involved  \n"
   ]
  },
  {
   "cell_type": "markdown",
   "metadata": {},
   "source": [
    "** 4.4 TD/IDF **\n",
    "\n",
    "TD/IDF stands for Term Document Inverse Document Frequency.  \"Term\" here can be thought of as a word.  This is a measure of the  relative importance of a word within a document, in the context of multiple documents.  \n",
    "\n",
    "We start with the TD part - this is simply a normalized frequency of the word in the document:  \n",
    "\n",
    "   - (word count in document) / (total words in document)  \n",
    "   \n",
    "The IDF is a weighting of the uniquess of the word across all of the documents.  Here is the complete formula of TD/IDF:  \n",
    "\n",
    "   - td_idf(t,d) = wc(t,d)/wc(d) / dc(t)/dc()  \n",
    "\n",
    "where:  \n",
    "   - wc(t,d) = # of occurrences of term t in doc d  \n",
    "   - wc(d) = # of words in doc d  \n",
    "   - dc(t) = # of docs that contain at least 1 occurrence of term t  \n",
    "   - dc() = # of docs in collection  "
   ]
  },
  {
   "cell_type": "markdown",
   "metadata": {},
   "source": [
    "** 4.5 Word Sense Disambiguation (WSD) **\n",
    "\n",
    "Related to POS tagging, WSD is use to distingish between difference senses of a word. Each sense of the word\n",
    "uses the same POS tag, but means something different.  For example:\n",
    "\n",
    "   - she served the King\n",
    "   - she served the ball  \n",
    "    \n",
    "   - he took his money to the bank\n",
    "   - he took his canoe to the bank  \n",
    "     \n",
    "   - I play bass guitar\n",
    "   - I fish for bass  \n"
   ]
  },
  {
   "cell_type": "markdown",
   "metadata": {},
   "source": [
    "** 4.6 Anaphora Resolution **  \\\n",
    "\n",
    "Examples:\n",
    "   - Sam and Bill left with the toys.  They were later found.\n",
    "\n",
    "Who does \"they\" refer to in the above sentence?  Sam and Bill, or the toys?\n"
   ]
  },
  {
   "cell_type": "markdown",
   "metadata": {},
   "source": [
    "** 4.7 Part-of-speech (POS) Tagging **\n",
    "\n",
    "   - Verb, noun, adjective, etc.\n",
    "   - Simple tag set: 19 word classes\n",
    "   \n",
    "“They refuse to permit us to obtain a refuse permit”\n",
    "\n",
    "What tagset to use?\n",
    "  - Brown Corpus (87 tags)\n",
    "  - C5 tagset (61 tags)\n",
    "  - Penn Treebank (45 tags)\n",
    "  \n",
    "Types of Taggers\n",
    "  - Rule-based (e.g., regular expression)\n",
    "  - Lookup (Unigram)\n",
    "  - N-Gram\n",
    "  - Hybrid and Backoff\n",
    "  - Brill Tagger (learns rules)\n",
    "  - HMM Tagger\n",
    " "
   ]
  },
  {
   "cell_type": "markdown",
   "metadata": {},
   "source": [
    "** HMM Tagger **\n",
    "\n",
    "Previosly, we introduce Hidden Markov Models with a weather example.  Here, we will show an example of how we can use a HMM to create a POS tagger.\n"
   ]
  },
  {
   "cell_type": "code",
   "execution_count": 32,
   "metadata": {},
   "outputs": [
    {
     "name": "stdout",
     "output_type": "stream",
     "text": [
      "Weather by days:\n",
      "  day= 1 normal\n",
      "  day= 2 normal\n",
      "  day= 3 cold\n",
      "  day= 4 hot\n",
      "  day= 5 normal\n",
      "  day= 6 normal\n",
      "  day= 7 hot\n"
     ]
    }
   ],
   "source": [
    "# before building the HMM Tagger, let's warm up with implementing our HMM weather example here\n",
    "\n",
    "# states\n",
    "start = -1; cold = 0; normal = 1; hot = 2; stateCount = 3\n",
    "stateNames = [\"cold\", \"normal\", \"hot\"]\n",
    "\n",
    "# outputs\n",
    "hotChoc = 0; soda=1; iceCream = 2\n",
    "\n",
    "timeSteps = 7\n",
    "\n",
    "# state transition probabilities\n",
    "trans = {}\n",
    "trans[(start, cold)] = .1\n",
    "trans[(start, normal)] = .8\n",
    "trans[(start, hot)] = .1\n",
    "\n",
    "trans[(cold, cold)] = .7\n",
    "trans[(cold, normal)] = .1\n",
    "trans[(cold, hot)] = .2\n",
    "\n",
    "trans[(normal, cold)] = .3\n",
    "trans[(normal, normal)] = .4\n",
    "trans[(normal, hot)] = .3\n",
    "\n",
    "trans[(hot, cold)] = .2\n",
    "trans[(hot, normal)] = .4\n",
    "trans[(hot, hot)] = .4\n",
    "\n",
    "# state outputs\n",
    "output = {}\n",
    "output[(cold, hotChoc)] = .7\n",
    "output[(cold, soda)] = .3\n",
    "output[(cold, iceCream)] = 0\n",
    "\n",
    "output[(normal, hotChoc)] = .1\n",
    "output[(normal, soda)] = .7\n",
    "output[(normal, iceCream)] = .2\n",
    "\n",
    "output[(hot, hotChoc)] = 0\n",
    "output[(hot, soda)] = .6\n",
    "output[(hot, iceCream)] = .4\n",
    "\n",
    "diary = [soda, soda, hotChoc, iceCream, soda, soda, iceCream]\n",
    "\n",
    "# manage cell values and back pointers\n",
    "cells = {}\n",
    "backStates = {}\n",
    "\n",
    "def computeMaxPrev(t, sNext):\n",
    "    maxValue = 0\n",
    "    maxState = 0\n",
    "    \n",
    "    for s in range(stateCount):\n",
    "        value = cells[t, s] * trans[(s, sNext)]\n",
    "        if (s == 0 or value > maxValue):\n",
    "            maxValue = value\n",
    "            maxState = s\n",
    "            \n",
    "    return (maxValue, maxState)\n",
    "    \n",
    "def viterbi(trans, output, diary):\n",
    "\n",
    "    # special handling for t=0 which have no prior states)\n",
    "    for s in range(stateCount):\n",
    "        cells[(0, s)] = trans[(start, s)] * output[(s, diary[0])]\n",
    "        \n",
    "    # handle rest of time steps\n",
    "    for t in range(1, timeSteps):\n",
    "        for s in range(stateCount):\n",
    "            maxValue, maxState = computeMaxPrev(t-1, s)\n",
    "            backStates[(t,s)] = maxState\n",
    "            cells[(t, s)] = maxValue * output[(s, diary[t])]\n",
    "            #print(\"t=\", t, \"s=\", s, \"maxValue=\", maxValue, \"maxState=\", maxState, \"output=\", output[(s, diary[t])], \"equals=\", cells[(t, s)])\n",
    "        \n",
    "    # walk thru cells backwards to get most probable path\n",
    "    path = []\n",
    "    \n",
    "    for tt in range(timeSteps):\n",
    "        t = timeSteps - tt - 1    # step t backwards over timesteps\n",
    "        maxValue = 0\n",
    "        maxState = 0\n",
    "        \n",
    "        for s in range(stateCount):\n",
    "            value = cells[t, s] \n",
    "            if (s == 0 or value > maxValue):\n",
    "                maxValue = value\n",
    "                maxState = s\n",
    "                \n",
    "        path.insert(0, maxState)\n",
    "        \n",
    "    return path\n",
    "\n",
    "# test our algorithm on the weather problem\n",
    "path = viterbi(trans, output, diary)\n",
    "\n",
    "print(\"Weather by days:\")\n",
    "for i in range(timeSteps):\n",
    "    state = path[i]\n",
    "    print(\"  day=\", i+1, stateNames[state])"
   ]
  },
  {
   "cell_type": "markdown",
   "metadata": {},
   "source": [
    "** HMM Tagger Overview**\n",
    "\n",
    "We are going to use a Hidden Markov Model to help us assign Part-of-Speech tags (like noun, verb, adjective, etc.) to words in a sentence.  We treat the human author of the sentence as moving between different meaning states (POS tags) as they compose the sentence.  Those state are hidden from us, but we observe the words of the sentence (the output of the meaning states).\n",
    "\n",
    "In our example here, we will use 4 POS tags from the 87 tag Brown corpus:\n",
    "\n",
    "   - VB   (verb, base form)\n",
    "   - TO   (infinitive marker)\n",
    "   - NN   (common singular noun)\n",
    "   - PPSS (other nominative pronoun)\n",
    "\n",
    "We are given the state-to-state transition probabilities and the state-output probabilities (see next code cell).  We are also given the sentence to decode: \"I WANT TO RACE\"."
   ]
  },
  {
   "cell_type": "code",
   "execution_count": 22,
   "metadata": {},
   "outputs": [
    {
     "name": "stdout",
     "output_type": "stream",
     "text": [
      "Tagged Sentence:\n",
      "  word= I \ttag= PPSS\n",
      "  word= WANT \ttag= VB\n",
      "  word= TO \ttag= TO\n",
      "  word= RACE \ttag= VB\n"
     ]
    }
   ],
   "source": [
    "# OK, here is our HMM POS Tagger for this example\n",
    "\n",
    "# states\n",
    "start = -1; VB = 0; TO = 1; NN = 2; PPSS = 3; stateCount = 4\n",
    "stateNames = [\"VB\", \"TO\", \"NN\", \"PPSS\"]\n",
    "\n",
    "# outputs\n",
    "I = 0; WANT = 1; To = 2; RACE=3\n",
    "\n",
    "timeSteps = 4\n",
    "\n",
    "# state transition probabilities\n",
    "trans = {}\n",
    "trans[(start, VB)] = .19\n",
    "trans[(start, TO)] = .0043\n",
    "trans[(start, NN)] = .041\n",
    "trans[(start, PPSS)] = .067\n",
    "\n",
    "trans[(VB, VB)] = .0038\n",
    "trans[(VB, TO)] = .035\n",
    "trans[(VB, NN)] = .047\n",
    "trans[(VB, PPSS)] = .0070\n",
    "\n",
    "trans[(TO, VB)] = .83\n",
    "trans[(TO, TO)] = 0\n",
    "trans[(TO, NN)] = .00047\n",
    "trans[(TO, PPSS)] = 0\n",
    "\n",
    "trans[(NN, VB)] = .0040\n",
    "trans[(NN, TO)] = .016\n",
    "trans[(NN, NN)] = .087\n",
    "trans[(NN, PPSS)] = .0045\n",
    "\n",
    "trans[(PPSS, VB)] = .23\n",
    "trans[(PPSS, TO)] = .00079\n",
    "trans[(PPSS, NN)] = .0012\n",
    "trans[(PPSS, PPSS)] = .00014\n",
    "\n",
    "# state outputs\n",
    "output = {}\n",
    "output[(VB, I)] = 0\n",
    "output[(VB, WANT)] = .0093\n",
    "output[(VB, To)] = 0\n",
    "output[(VB, RACE)] = .00012\n",
    "\n",
    "output[(TO, I)] = 0\n",
    "output[(TO, WANT)] = 0\n",
    "output[(TO, To)] = .99\n",
    "output[(TO, RACE)] = 0\n",
    "\n",
    "output[(NN, I)] = 0\n",
    "output[(NN, WANT)] = .000054\n",
    "output[(NN, To)] = 0\n",
    "output[(NN, RACE)] = .00057\n",
    "\n",
    "output[(PPSS, I)] = .37\n",
    "output[(PPSS, WANT)] = 0\n",
    "output[(PPSS, To)] = 0\n",
    "output[(PPSS, RACE)] = 0\n",
    "\n",
    "\n",
    "sentence = [I, WANT, To, RACE]\n",
    "words = [\"I\", \"WANT\", \"TO\", \"RACE\"]\n",
    "\n",
    "# manage cell values and back pointers\n",
    "cells = {}\n",
    "backStates = {}\n",
    "\n",
    "def computeMaxPrev(t, sNext):\n",
    "    maxValue = 0\n",
    "    maxState = 0\n",
    "    \n",
    "    for s in range(stateCount):\n",
    "        value = cells[t, s] * trans[(s, sNext)]\n",
    "        if (s == 0 or value > maxValue):\n",
    "            maxValue = value\n",
    "            maxState = s\n",
    "            \n",
    "    return (maxValue, maxState)\n",
    "    \n",
    "def viterbi(trans, output, sentence):\n",
    "\n",
    "    # special handling for t=0 which have no prior states)\n",
    "    for s in range(stateCount):\n",
    "        cells[(0, s)] = trans[(start, s)] * output[(s, sentence[0])]\n",
    "        \n",
    "    # handle rest of time steps\n",
    "    for t in range(1, timeSteps):\n",
    "        for s in range(stateCount):\n",
    "            maxValue, maxState = computeMaxPrev(t-1, s)\n",
    "            backStates[(t,s)] = maxState\n",
    "            cells[(t, s)] = maxValue * output[(s, sentence[t])]\n",
    "            #print(\"t=\", t, \"s=\", s, \"maxValue=\", maxValue, \"maxState=\", maxState, \"output=\", output[(s, sentence[t])], \"equals=\", cells[(t, s)])\n",
    "        \n",
    "    # walk thru cells backwards to get most probable path\n",
    "    path = []\n",
    "    \n",
    "    for tt in range(timeSteps):\n",
    "        t = timeSteps - tt - 1    # step t backwards over timesteps\n",
    "        maxValue = 0\n",
    "        maxState = 0\n",
    "        \n",
    "        for s in range(stateCount):\n",
    "            value = cells[t, s] \n",
    "            if (s == 0 or value > maxValue):\n",
    "                maxValue = value\n",
    "                maxState = s\n",
    "                \n",
    "        path.insert(0, maxState)\n",
    "        \n",
    "    return path\n",
    "\n",
    "# test our algorithm on the POS TAG data\n",
    "path = viterbi(trans, output, sentence)\n",
    "\n",
    "print(\"Tagged Sentence:\")\n",
    "for i in range(timeSteps):\n",
    "    state = path[i]\n",
    "    print(\"  word=\", words[i], \"\\ttag=\", stateNames[state])\n",
    "    \n",
    "    "
   ]
  },
  {
   "cell_type": "code",
   "execution_count": 23,
   "metadata": {},
   "outputs": [
    {
     "data": {
      "text/plain": [
       "[('they', 'PRP'),\n",
       " ('refuse', 'VBP'),\n",
       " ('to', 'TO'),\n",
       " ('permit', 'VB'),\n",
       " ('us', 'PRP'),\n",
       " ('to', 'TO'),\n",
       " ('obtain', 'VB'),\n",
       " ('the', 'DT'),\n",
       " ('refuse', 'NN'),\n",
       " ('permit', 'NN')]"
      ]
     },
     "execution_count": 23,
     "metadata": {},
     "output_type": "execute_result"
    }
   ],
   "source": [
    "# Here is an example of using the NLTK POS tagger\n",
    "import nltk\n",
    "\n",
    "nltk.pos_tag(\"they refuse to permit us to obtain the refuse permit\".split())\n",
    "\n"
   ]
  },
  {
   "cell_type": "code",
   "execution_count": null,
   "metadata": {},
   "outputs": [],
   "source": [
    "# POS tagging with supervised learning, using word suffix parts as features\n",
    "import nltk\n",
    "\n",
    "# start by finding the most common 1, 2, and 3 character suffixes of words (using Brown corpus of 1.1 million words)\n",
    "from nltk.corpus import brown\n",
    "fd = nltk.FreqDist()        # create an empty one that we will count with\n",
    "\n",
    "for word in brown.words():\n",
    "    wl = word.lower()\n",
    "    fd[wl[-1:]] += 1\n",
    "    fd[wl[-2:]] += 1\n",
    "    fd[wl[-3:]] += 1\n",
    "\n",
    "topSuffixes = [ key for (key,value) in fd.most_common(30)]\n",
    "print(topSuffixes[:40])\n",
    "\n",
    "def pos_features(word):\n",
    "    features = {}\n",
    "    \n",
    "    for suffix in topSuffixes:\n",
    "        features[suffix] = word.lower().endswith(suffix)\n",
    "        \n",
    "    return features\n",
    "\n",
    "#pos_features(\"table\")\n",
    "\n",
    "tagWords = brown.tagged_words(categories=\"news\")\n",
    "data = [(pos_features(word), tag) for (word,tag) in tagWords]\n",
    "\n",
    "print(\"len(data)=\", len(data))\n",
    "\n",
    "dataCount = len(data)\n",
    "trainCount = int(.8*dataCount)\n",
    "\n",
    "trainData = data[:trainCount]\n",
    "testData = data[trainCount:]\n",
    "\n",
    "dtree = nltk.DecisionTreeClassifier.train(trainData)\n",
    "#dtree = nltk.NaiveBayesClassifier.train(trainData)\n",
    "\n",
    "print(\"train accuracy=\", nltk.classify.accuracy(dtree, trainData))\n",
    "print(\"test accuracy=\", nltk.classify.accuracy(dtree, testData))\n",
    "\n",
    "print(dtree.classify(pos_features(\"cats\")))\n",
    "print(dtree.classify(pos_features(\"house\")))\n",
    "\n",
    "print(dtree.pseudocode(depth=4))\n"
   ]
  },
  {
   "cell_type": "markdown",
   "metadata": {},
   "source": [
    "## 5. Classical NLP Applications ##"
   ]
  },
  {
   "cell_type": "markdown",
   "metadata": {},
   "source": [
    "** 5.1 Name Gender Classifier **\n"
   ]
  },
  {
   "cell_type": "code",
   "execution_count": 24,
   "metadata": {},
   "outputs": [
    {
     "name": "stdout",
     "output_type": "stream",
     "text": [
      "trainData accuracy= 0.9222659323367427\n",
      "testData accuracy= 0.8546255506607929\n",
      "Most Informative Features\n",
      "                 suffix2 = 'na'           female : male   =     84.4 : 1.0\n",
      "                 suffix2 = 'ia'           female : male   =     45.0 : 1.0\n",
      "                  suffix = 'a'            female : male   =     38.3 : 1.0\n",
      "                 suffix2 = 'us'             male : female =     35.9 : 1.0\n",
      "                 suffix2 = 'rt'             male : female =     30.5 : 1.0\n",
      "                 suffix2 = 'ta'           female : male   =     29.1 : 1.0\n",
      "                 suffix3 = 'ana'          female : male   =     22.4 : 1.0\n",
      "                 suffix2 = 'ra'           female : male   =     22.2 : 1.0\n",
      "                 suffix2 = 'do'             male : female =     21.8 : 1.0\n",
      "                  suffix = 'k'              male : female =     21.7 : 1.0\n",
      "                 suffix3 = 'tta'          female : male   =     21.2 : 1.0\n",
      "                 suffix2 = 'ld'             male : female =     21.1 : 1.0\n",
      "                 suffix2 = 'rd'             male : female =     21.0 : 1.0\n",
      "                 suffix2 = 'os'             male : female =     17.3 : 1.0\n",
      "                 suffix3 = 'old'            male : female =     17.1 : 1.0\n",
      "                 suffix3 = 'ard'            male : female =     16.3 : 1.0\n",
      "                 prefix2 = 'hu'             male : female =     16.2 : 1.0\n",
      "                 suffix3 = 'vin'            male : female =     16.1 : 1.0\n",
      "                 suffix3 = 'nne'          female : male   =     16.0 : 1.0\n",
      "                 prefix3 = 'ros'          female : male   =     15.6 : 1.0\n",
      "                  suffix = 'f'              male : female =     15.4 : 1.0\n",
      "                 suffix3 = 'ert'            male : female =     15.3 : 1.0\n",
      "                 suffix2 = 'io'             male : female =     15.1 : 1.0\n",
      "                 suffix2 = 'ch'             male : female =     14.4 : 1.0\n",
      "                 suffix3 = 'ita'          female : male   =     14.2 : 1.0\n"
     ]
    }
   ],
   "source": [
    "# code to build a classifier to classify names as male or female\n",
    "# demonstrates the basics of feature extraction and model building\n",
    "\n",
    "names = [(name, 'male') for name in nltk.corpus.names.words(\"male.txt\")]\n",
    "names += [(name, 'female') for name in nltk.corpus.names.words(\"female.txt\")]\n",
    "\n",
    "def extract_gender_features(name):\n",
    "    name = name.lower()\n",
    "    features = {}\n",
    "    features[\"suffix\"] = name[-1:]\n",
    "    features[\"suffix2\"] = name[-2:] if len(name) > 1 else name[0]\n",
    "    features[\"suffix3\"] = name[-3:] if len(name) > 2 else name[0]\n",
    "    #features[\"suffix4\"] = name[-4:] if len(name) > 3 else name[0]\n",
    "    #features[\"suffix5\"] = name[-5:] if len(name) > 4 else name[0]\n",
    "    #features[\"suffix6\"] = name[-6:] if len(name) > 5 else name[0]\n",
    "    features[\"prefix\"] = name[:1]\n",
    "    features[\"prefix2\"] = name[:2] if len(name) > 1 else name[0]\n",
    "    features[\"prefix3\"] = name[:3] if len(name) > 2 else name[0]\n",
    "    features[\"prefix4\"] = name[:4] if len(name) > 3 else name[0]\n",
    "    features[\"prefix5\"] = name[:5] if len(name) > 4 else name[0]\n",
    "    #features[\"wordLen\"] = len(name)\n",
    "    \n",
    "    #for letter in \"abcdefghijklmnopqrstuvwyxz\":\n",
    "    #    features[letter + \"-count\"] = name.count(letter)\n",
    "   \n",
    "    return features\n",
    "\n",
    "data = [(extract_gender_features(name), gender) for (name,gender) in names]\n",
    "\n",
    "import random\n",
    "random.shuffle(data)\n",
    "\n",
    "#print(data[:10])\n",
    "#print()\n",
    "#print(data[-10:])\n",
    "\n",
    "dataCount = len(data)\n",
    "trainCount = int(.8*dataCount)\n",
    "\n",
    "trainData = data[:trainCount]\n",
    "testData = data[trainCount:]\n",
    "bayes = nltk.NaiveBayesClassifier.train(trainData)\n",
    "\n",
    "def classify(name):\n",
    "    label = bayes.classify(extract_gender_features(name))\n",
    "    print(\"name=\", name, \"classifed as=\", label)\n",
    "\n",
    "print(\"trainData accuracy=\", nltk.classify.accuracy(bayes, trainData))\n",
    "print(\"testData accuracy=\", nltk.classify.accuracy(bayes, testData))\n",
    "\n",
    "bayes.show_most_informative_features(25)"
   ]
  },
  {
   "cell_type": "code",
   "execution_count": 27,
   "metadata": {},
   "outputs": [
    {
     "data": {
      "text/plain": [
       "[{'name': 'Abbey', 'label': 'male'},\n",
       " {'name': 'Abbie', 'label': 'male'},\n",
       " {'name': 'Ace', 'label': 'male'},\n",
       " {'name': 'Addie', 'label': 'male'},\n",
       " {'name': 'Aditya', 'label': 'male'},\n",
       " {'name': 'Adrian', 'label': 'male'},\n",
       " {'name': 'Adrien', 'label': 'male'},\n",
       " {'name': 'Agamemnon', 'label': 'male'},\n",
       " {'name': 'Aguste', 'label': 'male'},\n",
       " {'name': 'Alaa', 'label': 'male'},\n",
       " {'name': 'Alexei', 'label': 'male'},\n",
       " {'name': 'Alexis', 'label': 'male'},\n",
       " {'name': 'Alfie', 'label': 'male'},\n",
       " {'name': 'Ali', 'label': 'male'},\n",
       " {'name': 'Alix', 'label': 'male'},\n",
       " {'name': 'Allen', 'label': 'male'},\n",
       " {'name': 'Alley', 'label': 'male'},\n",
       " {'name': 'Allie', 'label': 'male'},\n",
       " {'name': 'Allin', 'label': 'male'},\n",
       " {'name': 'Allyn', 'label': 'male'},\n",
       " {'name': 'Ambrosi', 'label': 'male'},\n",
       " {'name': 'Amory', 'label': 'male'},\n",
       " {'name': 'Anatole', 'label': 'male'},\n",
       " {'name': 'Andie', 'label': 'male'},\n",
       " {'name': 'Andre', 'label': 'male'},\n",
       " {'name': 'Andrea', 'label': 'male'},\n",
       " {'name': 'Andri', 'label': 'male'},\n",
       " {'name': 'Andy', 'label': 'male'},\n",
       " {'name': 'Angel', 'label': 'male'},\n",
       " {'name': 'Angelo', 'label': 'male'},\n",
       " {'name': 'Angie', 'label': 'male'},\n",
       " {'name': 'Antoine', 'label': 'male'},\n",
       " {'name': 'Antone', 'label': 'male'},\n",
       " {'name': 'Antoni', 'label': 'male'},\n",
       " {'name': 'Ari', 'label': 'male'},\n",
       " {'name': 'Arie', 'label': 'male'},\n",
       " {'name': 'Ariel', 'label': 'male'},\n",
       " {'name': 'Aristotle', 'label': 'male'},\n",
       " {'name': 'Ashley', 'label': 'male'},\n",
       " {'name': 'Aubrey', 'label': 'male'},\n",
       " {'name': 'Augustine', 'label': 'male'},\n",
       " {'name': 'Avi', 'label': 'male'},\n",
       " {'name': 'Bela', 'label': 'male'},\n",
       " {'name': 'Bennie', 'label': 'male'},\n",
       " {'name': 'Bernie', 'label': 'male'},\n",
       " {'name': 'Bertie', 'label': 'male'},\n",
       " {'name': 'Blaine', 'label': 'male'},\n",
       " {'name': 'Blayne', 'label': 'male'},\n",
       " {'name': 'Bobbie', 'label': 'male'},\n",
       " {'name': 'Brandy', 'label': 'male'},\n",
       " {'name': 'Brian', 'label': 'male'},\n",
       " {'name': 'Britt', 'label': 'male'},\n",
       " {'name': 'Bryn', 'label': 'male'},\n",
       " {'name': 'Cal', 'label': 'male'},\n",
       " {'name': 'Cammy', 'label': 'male'},\n",
       " {'name': 'Carey', 'label': 'male'},\n",
       " {'name': 'Carl', 'label': 'male'},\n",
       " {'name': 'Carleigh', 'label': 'male'},\n",
       " {'name': 'Carlie', 'label': 'male'},\n",
       " {'name': 'Carlin', 'label': 'male'},\n",
       " {'name': 'Carlyle', 'label': 'male'},\n",
       " {'name': 'Carmine', 'label': 'male'},\n",
       " {'name': 'Carroll', 'label': 'male'},\n",
       " {'name': 'Carsten', 'label': 'male'},\n",
       " {'name': 'Cary', 'label': 'male'},\n",
       " {'name': 'Caryl', 'label': 'male'},\n",
       " {'name': 'Case', 'label': 'male'},\n",
       " {'name': 'Casey', 'label': 'male'},\n",
       " {'name': 'Cass', 'label': 'male'},\n",
       " {'name': 'Cat', 'label': 'male'},\n",
       " {'name': 'Cecil', 'label': 'male'},\n",
       " {'name': 'Chane', 'label': 'male'},\n",
       " {'name': 'Charley', 'label': 'male'},\n",
       " {'name': 'Charlie', 'label': 'male'},\n",
       " {'name': 'Che', 'label': 'male'},\n",
       " {'name': 'Chris', 'label': 'male'},\n",
       " {'name': 'Chrissy', 'label': 'male'},\n",
       " {'name': 'Christie', 'label': 'male'},\n",
       " {'name': 'Christophe', 'label': 'male'},\n",
       " {'name': 'Christy', 'label': 'male'},\n",
       " {'name': 'Chrisy', 'label': 'male'},\n",
       " {'name': 'Claire', 'label': 'male'},\n",
       " {'name': 'Clarance', 'label': 'male'},\n",
       " {'name': 'Clare', 'label': 'male'},\n",
       " {'name': 'Clarence', 'label': 'male'},\n",
       " {'name': 'Claude', 'label': 'male'},\n",
       " {'name': 'Clemente', 'label': 'male'},\n",
       " {'name': 'Clemmie', 'label': 'male'},\n",
       " {'name': 'Cole', 'label': 'male'},\n",
       " {'name': 'Connie', 'label': 'male'},\n",
       " {'name': 'Connolly', 'label': 'male'},\n",
       " {'name': 'Connor', 'label': 'male'},\n",
       " {'name': 'Constantin', 'label': 'male'},\n",
       " {'name': 'Constantine', 'label': 'male'},\n",
       " {'name': 'Corey', 'label': 'male'},\n",
       " {'name': 'Cornellis', 'label': 'male'},\n",
       " {'name': 'Corrie', 'label': 'male'},\n",
       " {'name': 'Cortese', 'label': 'male'},\n",
       " {'name': 'Cory', 'label': 'male'},\n",
       " {'name': 'Costa', 'label': 'male'},\n",
       " {'name': 'Courtney', 'label': 'male'},\n",
       " {'name': 'Cris', 'label': 'male'},\n",
       " {'name': 'Cristopher', 'label': 'male'},\n",
       " {'name': 'Dana', 'label': 'male'},\n",
       " {'name': 'Dane', 'label': 'male'},\n",
       " {'name': 'Dani', 'label': 'male'},\n",
       " {'name': 'Danie', 'label': 'male'},\n",
       " {'name': 'Daniel', 'label': 'male'},\n",
       " {'name': 'Dannie', 'label': 'male'},\n",
       " {'name': 'Danny', 'label': 'male'},\n",
       " {'name': 'Dante', 'label': 'male'},\n",
       " {'name': 'Darcy', 'label': 'male'},\n",
       " {'name': 'Darryl', 'label': 'male'},\n",
       " {'name': 'Daryl', 'label': 'male'},\n",
       " {'name': 'Daryle', 'label': 'male'},\n",
       " {'name': 'Davie', 'label': 'male'},\n",
       " {'name': 'Dean', 'label': 'male'},\n",
       " {'name': 'Deane', 'label': 'male'},\n",
       " {'name': 'Del', 'label': 'male'},\n",
       " {'name': 'Dell', 'label': 'male'},\n",
       " {'name': 'Dennie', 'label': 'male'},\n",
       " {'name': 'Denny', 'label': 'male'},\n",
       " {'name': 'Donnie', 'label': 'male'},\n",
       " {'name': 'Donny', 'label': 'male'},\n",
       " {'name': 'Dorian', 'label': 'male'},\n",
       " {'name': 'Dory', 'label': 'male'},\n",
       " {'name': 'Eddie', 'label': 'male'},\n",
       " {'name': 'Edie', 'label': 'male'},\n",
       " {'name': 'Eli', 'label': 'male'},\n",
       " {'name': 'Elisha', 'label': 'male'},\n",
       " {'name': 'Ely', 'label': 'male'},\n",
       " {'name': 'Emile', 'label': 'male'},\n",
       " {'name': 'Emmit', 'label': 'male'},\n",
       " {'name': 'Emmy', 'label': 'male'},\n",
       " {'name': 'Enrique', 'label': 'male'},\n",
       " {'name': 'Erin', 'label': 'male'},\n",
       " {'name': 'Esme', 'label': 'male'},\n",
       " {'name': 'Etienne', 'label': 'male'},\n",
       " {'name': 'Eugen', 'label': 'male'},\n",
       " {'name': 'Eugene', 'label': 'male'},\n",
       " {'name': 'Evan', 'label': 'male'},\n",
       " {'name': 'Evelyn', 'label': 'male'},\n",
       " {'name': 'Ezra', 'label': 'male'},\n",
       " {'name': 'Felice', 'label': 'male'},\n",
       " {'name': 'Ferdie', 'label': 'male'},\n",
       " {'name': 'Florian', 'label': 'male'},\n",
       " {'name': 'Frankie', 'label': 'male'},\n",
       " {'name': 'Franklyn', 'label': 'male'},\n",
       " {'name': 'Freddie', 'label': 'male'},\n",
       " {'name': 'Gabriele', 'label': 'male'},\n",
       " {'name': 'Garcia', 'label': 'male'},\n",
       " {'name': 'Gayle', 'label': 'male'},\n",
       " {'name': 'Gene', 'label': 'male'},\n",
       " {'name': 'Georg', 'label': 'male'},\n",
       " {'name': 'George', 'label': 'male'},\n",
       " {'name': 'Georgia', 'label': 'male'},\n",
       " {'name': 'Georgie', 'label': 'male'},\n",
       " {'name': 'Georgy', 'label': 'male'},\n",
       " {'name': 'Geri', 'label': 'male'},\n",
       " {'name': 'Germaine', 'label': 'male'},\n",
       " {'name': 'Gerri', 'label': 'male'},\n",
       " {'name': 'Giavani', 'label': 'male'},\n",
       " {'name': 'Giovanne', 'label': 'male'},\n",
       " {'name': 'Giovanni', 'label': 'male'},\n",
       " {'name': 'Glen', 'label': 'male'},\n",
       " {'name': 'Glenn', 'label': 'male'},\n",
       " {'name': 'Glynn', 'label': 'male'},\n",
       " {'name': 'Hailey', 'label': 'male'},\n",
       " {'name': 'Hari', 'label': 'male'},\n",
       " {'name': 'Heath', 'label': 'male'},\n",
       " {'name': 'Henrie', 'label': 'male'},\n",
       " {'name': 'Ike', 'label': 'male'},\n",
       " {'name': 'Ira', 'label': 'male'},\n",
       " {'name': 'Isa', 'label': 'male'},\n",
       " {'name': 'Isadore', 'label': 'male'},\n",
       " {'name': 'Isidore', 'label': 'male'},\n",
       " {'name': 'Jackie', 'label': 'male'},\n",
       " {'name': 'Jaime', 'label': 'male'},\n",
       " {'name': 'Jermaine', 'label': 'male'},\n",
       " {'name': 'Jerri', 'label': 'male'},\n",
       " {'name': 'Jerrie', 'label': 'male'},\n",
       " {'name': 'Jerry', 'label': 'male'},\n",
       " {'name': 'Jesse', 'label': 'male'},\n",
       " {'name': 'Jessee', 'label': 'male'},\n",
       " {'name': 'Jessie', 'label': 'male'},\n",
       " {'name': 'Jodi', 'label': 'male'},\n",
       " {'name': 'Jodie', 'label': 'male'},\n",
       " {'name': 'Jose', 'label': 'male'},\n",
       " {'name': 'Juanita', 'label': 'male'},\n",
       " {'name': 'Jude', 'label': 'male'},\n",
       " {'name': 'Julie', 'label': 'male'},\n",
       " {'name': 'Kalil', 'label': 'male'},\n",
       " {'name': 'Kalle', 'label': 'male'},\n",
       " {'name': 'Kane', 'label': 'male'},\n",
       " {'name': 'Karel', 'label': 'male'},\n",
       " {'name': 'Karl', 'label': 'male'},\n",
       " {'name': 'Keene', 'label': 'male'},\n",
       " {'name': 'Kellen', 'label': 'male'},\n",
       " {'name': 'Kelley', 'label': 'male'},\n",
       " {'name': 'Kelly', 'label': 'male'},\n",
       " {'name': 'Kelsey', 'label': 'male'},\n",
       " {'name': 'Kermie', 'label': 'male'},\n",
       " {'name': 'Kerry', 'label': 'male'},\n",
       " {'name': 'Kim', 'label': 'male'},\n",
       " {'name': 'Kip', 'label': 'male'},\n",
       " {'name': 'Kirby', 'label': 'male'},\n",
       " {'name': 'Kit', 'label': 'male'},\n",
       " {'name': 'Klee', 'label': 'male'},\n",
       " {'name': 'Kory', 'label': 'male'},\n",
       " {'name': 'Kris', 'label': 'male'},\n",
       " {'name': 'Krishna', 'label': 'male'},\n",
       " {'name': 'Kristian', 'label': 'male'},\n",
       " {'name': 'Kyle', 'label': 'male'},\n",
       " {'name': 'Lane', 'label': 'male'},\n",
       " {'name': 'Lanny', 'label': 'male'},\n",
       " {'name': 'Laurance', 'label': 'male'},\n",
       " {'name': 'Lauren', 'label': 'male'},\n",
       " {'name': 'Laurence', 'label': 'male'},\n",
       " {'name': 'Laurie', 'label': 'male'},\n",
       " {'name': 'Lee', 'label': 'male'},\n",
       " {'name': 'Len', 'label': 'male'},\n",
       " {'name': 'Lennie', 'label': 'male'},\n",
       " {'name': 'Lenny', 'label': 'male'},\n",
       " {'name': 'Leslie', 'label': 'male'},\n",
       " {'name': 'Lin', 'label': 'male'},\n",
       " {'name': 'Lindsay', 'label': 'male'},\n",
       " {'name': 'Lindsey', 'label': 'male'},\n",
       " {'name': 'Lindy', 'label': 'male'},\n",
       " {'name': 'Lonnie', 'label': 'male'},\n",
       " {'name': 'Loren', 'label': 'male'},\n",
       " {'name': 'Lorne', 'label': 'male'},\n",
       " {'name': 'Lorrie', 'label': 'male'},\n",
       " {'name': 'Lou', 'label': 'male'},\n",
       " {'name': 'Louie', 'label': 'male'},\n",
       " {'name': 'Lovell', 'label': 'male'},\n",
       " {'name': 'Luce', 'label': 'male'},\n",
       " {'name': 'Lyle', 'label': 'male'},\n",
       " {'name': 'Lyn', 'label': 'male'},\n",
       " {'name': 'Lyndon', 'label': 'male'},\n",
       " {'name': 'Lynn', 'label': 'male'},\n",
       " {'name': 'Maddie', 'label': 'male'},\n",
       " {'name': 'Maddy', 'label': 'male'},\n",
       " {'name': 'Marietta', 'label': 'male'},\n",
       " {'name': 'Marilu', 'label': 'male'},\n",
       " {'name': 'Marion', 'label': 'male'},\n",
       " {'name': 'Marlin', 'label': 'male'},\n",
       " {'name': 'Marlow', 'label': 'male'},\n",
       " {'name': 'Marlowe', 'label': 'male'},\n",
       " {'name': 'Martainn', 'label': 'male'},\n",
       " {'name': 'Marten', 'label': 'male'},\n",
       " {'name': 'Martie', 'label': 'male'},\n",
       " {'name': 'Martin', 'label': 'male'},\n",
       " {'name': 'Marty', 'label': 'male'},\n",
       " {'name': 'Martyn', 'label': 'male'},\n",
       " {'name': 'Mattie', 'label': 'male'},\n",
       " {'name': 'Maurice', 'label': 'male'},\n",
       " {'name': 'Maurie', 'label': 'male'},\n",
       " {'name': 'Maurise', 'label': 'male'},\n",
       " {'name': 'Maxie', 'label': 'male'},\n",
       " {'name': 'Meade', 'label': 'male'},\n",
       " {'name': 'Mel', 'label': 'male'},\n",
       " {'name': 'Melvyn', 'label': 'male'},\n",
       " {'name': 'Meredeth', 'label': 'male'},\n",
       " {'name': 'Meredith', 'label': 'male'},\n",
       " {'name': 'Merill', 'label': 'male'},\n",
       " {'name': 'Merle', 'label': 'male'},\n",
       " {'name': 'Merlin', 'label': 'male'},\n",
       " {'name': 'Merrel', 'label': 'male'},\n",
       " {'name': 'Merril', 'label': 'male'},\n",
       " {'name': 'Merry', 'label': 'male'},\n",
       " {'name': 'Meryl', 'label': 'male'},\n",
       " {'name': 'Michele', 'label': 'male'},\n",
       " {'name': 'Mickie', 'label': 'male'},\n",
       " {'name': 'Micky', 'label': 'male'},\n",
       " {'name': 'Mika', 'label': 'male'},\n",
       " {'name': 'Mischa', 'label': 'male'},\n",
       " {'name': 'Morlee', 'label': 'male'},\n",
       " {'name': 'Morly', 'label': 'male'},\n",
       " {'name': 'Mose', 'label': 'male'},\n",
       " {'name': 'Natale', 'label': 'male'},\n",
       " {'name': 'Nate', 'label': 'male'},\n",
       " {'name': 'Nathanial', 'label': 'male'},\n",
       " {'name': 'Neil', 'label': 'male'},\n",
       " {'name': 'Nichole', 'label': 'male'},\n",
       " {'name': 'Nickie', 'label': 'male'},\n",
       " {'name': 'Niki', 'label': 'male'},\n",
       " {'name': 'Nikita', 'label': 'male'},\n",
       " {'name': 'Nikki', 'label': 'male'},\n",
       " {'name': 'Noel', 'label': 'male'},\n",
       " {'name': 'Normie', 'label': 'male'},\n",
       " {'name': 'Norris', 'label': 'male'},\n",
       " {'name': 'Odell', 'label': 'male'},\n",
       " {'name': 'Olle', 'label': 'male'},\n",
       " {'name': 'Ollie', 'label': 'male'},\n",
       " {'name': 'Oral', 'label': 'male'},\n",
       " {'name': 'Page', 'label': 'male'},\n",
       " {'name': 'Partha', 'label': 'male'},\n",
       " {'name': 'Pate', 'label': 'male'},\n",
       " {'name': 'Patrice', 'label': 'male'},\n",
       " {'name': 'Pattie', 'label': 'male'},\n",
       " {'name': 'Patty', 'label': 'male'},\n",
       " {'name': 'Pearce', 'label': 'male'},\n",
       " {'name': 'Pennie', 'label': 'male'},\n",
       " {'name': 'Penny', 'label': 'male'},\n",
       " {'name': 'Perry', 'label': 'male'},\n",
       " {'name': 'Pete', 'label': 'male'},\n",
       " {'name': 'Phil', 'label': 'male'},\n",
       " {'name': 'Rabi', 'label': 'male'},\n",
       " {'name': 'Randi', 'label': 'male'},\n",
       " {'name': 'Randy', 'label': 'male'},\n",
       " {'name': 'Reece', 'label': 'male'},\n",
       " {'name': 'Reese', 'label': 'male'},\n",
       " {'name': 'Rene', 'label': 'male'},\n",
       " {'name': 'Reza', 'label': 'male'},\n",
       " {'name': 'Rikki', 'label': 'male'},\n",
       " {'name': 'Robbie', 'label': 'male'},\n",
       " {'name': 'Roni', 'label': 'male'},\n",
       " {'name': 'Ronnie', 'label': 'male'},\n",
       " {'name': 'Roscoe', 'label': 'male'},\n",
       " {'name': 'Ruby', 'label': 'male'},\n",
       " {'name': 'Sandy', 'label': 'male'},\n",
       " {'name': 'Sascha', 'label': 'male'},\n",
       " {'name': 'Sasha', 'label': 'male'},\n",
       " {'name': 'Saundra', 'label': 'male'},\n",
       " {'name': 'Scotti', 'label': 'male'},\n",
       " {'name': 'Seth', 'label': 'male'},\n",
       " {'name': 'Shaine', 'label': 'male'},\n",
       " {'name': 'Shanan', 'label': 'male'},\n",
       " {'name': 'Shane', 'label': 'male'},\n",
       " {'name': 'Shannon', 'label': 'male'},\n",
       " {'name': 'Shaun', 'label': 'male'},\n",
       " {'name': 'Shawn', 'label': 'male'},\n",
       " {'name': 'Shay', 'label': 'male'},\n",
       " {'name': 'Shayne', 'label': 'male'},\n",
       " {'name': 'Shea', 'label': 'male'},\n",
       " {'name': 'Sibyl', 'label': 'male'},\n",
       " {'name': 'Siddhartha', 'label': 'male'},\n",
       " {'name': 'Simone', 'label': 'male'},\n",
       " {'name': 'Sonnie', 'label': 'male'},\n",
       " {'name': 'Stefan', 'label': 'male'},\n",
       " {'name': 'Sunny', 'label': 'male'},\n",
       " {'name': 'Tabbie', 'label': 'male'},\n",
       " {'name': 'Tallie', 'label': 'male'},\n",
       " {'name': 'Tally', 'label': 'male'},\n",
       " {'name': 'Tammie', 'label': 'male'},\n",
       " {'name': 'Tate', 'label': 'male'},\n",
       " {'name': 'Teddie', 'label': 'male'},\n",
       " {'name': 'Terence', 'label': 'male'},\n",
       " {'name': 'Terri', 'label': 'male'},\n",
       " {'name': 'Terry', 'label': 'male'},\n",
       " {'name': 'Timothee', 'label': 'male'},\n",
       " {'name': 'Tracie', 'label': 'male'},\n",
       " {'name': 'Tristan', 'label': 'male'},\n",
       " {'name': 'Vale', 'label': 'male'},\n",
       " {'name': 'Valentin', 'label': 'male'},\n",
       " {'name': 'Valentine', 'label': 'male'},\n",
       " {'name': 'Vinnie', 'label': 'male'},\n",
       " {'name': 'Vinny', 'label': 'male'},\n",
       " {'name': 'Virgie', 'label': 'male'},\n",
       " {'name': 'Vite', 'label': 'male'},\n",
       " {'name': 'Willi', 'label': 'male'},\n",
       " {'name': 'Winnie', 'label': 'male'},\n",
       " {'name': 'Yehudi', 'label': 'male'},\n",
       " {'name': 'Zacharia', 'label': 'male'},\n",
       " {'name': 'Zane', 'label': 'male'},\n",
       " {'name': 'Zebedee', 'label': 'male'},\n",
       " {'name': 'Abagail', 'label': 'female'},\n",
       " {'name': 'Abby', 'label': 'female'},\n",
       " {'name': 'Adriaens', 'label': 'female'},\n",
       " {'name': 'Ag', 'label': 'female'},\n",
       " {'name': 'Ajay', 'label': 'female'},\n",
       " {'name': 'Alex', 'label': 'female'},\n",
       " {'name': 'Alison', 'label': 'female'},\n",
       " {'name': 'Allison', 'label': 'female'},\n",
       " {'name': 'Allyson', 'label': 'female'},\n",
       " {'name': 'Amber', 'label': 'female'},\n",
       " {'name': 'Ansley', 'label': 'female'},\n",
       " {'name': 'Astrid', 'label': 'female'},\n",
       " {'name': 'Austin', 'label': 'female'},\n",
       " {'name': 'Averil', 'label': 'female'},\n",
       " {'name': 'Avrit', 'label': 'female'},\n",
       " {'name': 'Bab', 'label': 'female'},\n",
       " {'name': 'Barb', 'label': 'female'},\n",
       " {'name': 'Barby', 'label': 'female'},\n",
       " {'name': 'Barrie', 'label': 'female'},\n",
       " {'name': 'Barry', 'label': 'female'},\n",
       " {'name': 'Beau', 'label': 'female'},\n",
       " {'name': 'Beilul', 'label': 'female'},\n",
       " {'name': 'Benny', 'label': 'female'},\n",
       " {'name': 'Bert', 'label': 'female'},\n",
       " {'name': 'Bev', 'label': 'female'},\n",
       " {'name': 'Bevvy', 'label': 'female'},\n",
       " {'name': 'Bill', 'label': 'female'},\n",
       " {'name': 'Billie', 'label': 'female'},\n",
       " {'name': 'Billy', 'label': 'female'},\n",
       " {'name': 'Bird', 'label': 'female'},\n",
       " {'name': 'Blair', 'label': 'female'},\n",
       " {'name': 'Blake', 'label': 'female'},\n",
       " {'name': 'Blakeley', 'label': 'female'},\n",
       " {'name': 'Bo', 'label': 'female'},\n",
       " {'name': 'Bobby', 'label': 'female'},\n",
       " {'name': 'Brear', 'label': 'female'},\n",
       " {'name': 'Bren', 'label': 'female'},\n",
       " {'name': 'Brett', 'label': 'female'},\n",
       " {'name': 'Brier', 'label': 'female'},\n",
       " {'name': 'Brook', 'label': 'female'},\n",
       " {'name': 'Brooke', 'label': 'female'},\n",
       " {'name': 'Brooks', 'label': 'female'},\n",
       " {'name': 'Buffy', 'label': 'female'},\n",
       " {'name': 'Cam', 'label': 'female'},\n",
       " {'name': 'Cameo', 'label': 'female'},\n",
       " {'name': 'Carmon', 'label': 'female'},\n",
       " {'name': 'Chad', 'label': 'female'},\n",
       " {'name': 'Chandal', 'label': 'female'},\n",
       " {'name': 'Charlot', 'label': 'female'},\n",
       " {'name': 'Charlott', 'label': 'female'},\n",
       " {'name': 'Charo', 'label': 'female'},\n",
       " {'name': 'Cher', 'label': 'female'},\n",
       " {'name': 'Christan', 'label': 'female'},\n",
       " {'name': 'Christian', 'label': 'female'},\n",
       " {'name': 'Christin', 'label': 'female'},\n",
       " {'name': 'Chrysler', 'label': 'female'},\n",
       " {'name': 'Cinnamon', 'label': 'female'},\n",
       " {'name': 'Clair', 'label': 'female'},\n",
       " {'name': 'Clem', 'label': 'female'},\n",
       " {'name': 'Clemence', 'label': 'female'},\n",
       " {'name': 'Clemmy', 'label': 'female'},\n",
       " {'name': 'Cleo', 'label': 'female'},\n",
       " {'name': 'Clio', 'label': 'female'},\n",
       " {'name': 'Clo', 'label': 'female'},\n",
       " {'name': 'Cody', 'label': 'female'},\n",
       " {'name': 'Con', 'label': 'female'},\n",
       " {'name': 'Consuelo', 'label': 'female'},\n",
       " {'name': 'Daffy', 'label': 'female'},\n",
       " {'name': 'Dagmar', 'label': 'female'},\n",
       " {'name': 'Dale', 'label': 'female'},\n",
       " {'name': 'Dallas', 'label': 'female'},\n",
       " {'name': 'Darby', 'label': 'female'},\n",
       " {'name': 'Demeter', 'label': 'female'},\n",
       " {'name': 'Demetris', 'label': 'female'},\n",
       " {'name': 'Devin', 'label': 'female'},\n",
       " {'name': 'Devon', 'label': 'female'},\n",
       " {'name': 'Dew', 'label': 'female'},\n",
       " {'name': 'Dido', 'label': 'female'},\n",
       " {'name': 'Dion', 'label': 'female'},\n",
       " {'name': 'Dionis', 'label': 'female'},\n",
       " {'name': 'Dominique', 'label': 'female'},\n",
       " {'name': 'Drew', 'label': 'female'},\n",
       " {'name': 'Dusty', 'label': 'female'},\n",
       " {'name': 'Ealasaid', 'label': 'female'},\n",
       " {'name': 'Easter', 'label': 'female'},\n",
       " {'name': 'Ebony', 'label': 'female'},\n",
       " {'name': 'Eddy', 'label': 'female'},\n",
       " {'name': 'Edin', 'label': 'female'},\n",
       " {'name': 'Em', 'label': 'female'},\n",
       " {'name': 'Enid', 'label': 'female'},\n",
       " {'name': 'Eran', 'label': 'female'},\n",
       " {'name': 'Ester', 'label': 'female'},\n",
       " {'name': 'Esther', 'label': 'female'},\n",
       " {'name': 'Evy', 'label': 'female'},\n",
       " {'name': 'Felicdad', 'label': 'female'},\n",
       " {'name': 'Fern', 'label': 'female'},\n",
       " {'name': 'Flower', 'label': 'female'},\n",
       " {'name': 'Fran', 'label': 'female'},\n",
       " {'name': 'Frances', 'label': 'female'},\n",
       " {'name': 'Francis', 'label': 'female'},\n",
       " {'name': 'Frank', 'label': 'female'},\n",
       " {'name': 'Franky', 'label': 'female'},\n",
       " {'name': 'Fred', 'label': 'female'},\n",
       " {'name': 'Freddy', 'label': 'female'},\n",
       " {'name': 'Friederike', 'label': 'female'},\n",
       " {'name': 'Gabriel', 'label': 'female'},\n",
       " {'name': 'Gabriell', 'label': 'female'},\n",
       " {'name': 'Gaby', 'label': 'female'},\n",
       " {'name': 'Gael', 'label': 'female'},\n",
       " {'name': 'Gail', 'label': 'female'},\n",
       " {'name': 'Gale', 'label': 'female'},\n",
       " {'name': 'Garland', 'label': 'female'},\n",
       " {'name': 'Garnet', 'label': 'female'},\n",
       " {'name': 'Gates', 'label': 'female'},\n",
       " {'name': 'Gay', 'label': 'female'},\n",
       " {'name': 'Gaynor', 'label': 'female'},\n",
       " {'name': 'Germain', 'label': 'female'},\n",
       " {'name': 'Gerry', 'label': 'female'},\n",
       " {'name': 'Gert', 'label': 'female'},\n",
       " {'name': 'Gertrud', 'label': 'female'},\n",
       " {'name': 'Gigi', 'label': 'female'},\n",
       " {'name': 'Gill', 'label': 'female'},\n",
       " {'name': 'Gillan', 'label': 'female'},\n",
       " {'name': 'Gilligan', 'label': 'female'},\n",
       " {'name': 'Ginger', 'label': 'female'},\n",
       " {'name': 'Grace', 'label': 'female'},\n",
       " {'name': 'Gray', 'label': 'female'},\n",
       " {'name': 'Greer', 'label': 'female'},\n",
       " {'name': 'Gretchen', 'label': 'female'},\n",
       " {'name': 'Grier', 'label': 'female'},\n",
       " {'name': 'Grissel', 'label': 'female'},\n",
       " {'name': 'Gui', 'label': 'female'},\n",
       " {'name': 'Gunvor', 'label': 'female'},\n",
       " {'name': 'Gus', 'label': 'female'},\n",
       " {'name': 'Haleigh', 'label': 'female'},\n",
       " {'name': 'Haley', 'label': 'female'},\n",
       " {'name': 'Halley', 'label': 'female'},\n",
       " {'name': 'Hannibal', 'label': 'female'},\n",
       " {'name': 'Hannis', 'label': 'female'},\n",
       " {'name': 'Hanny', 'label': 'female'},\n",
       " {'name': 'Harley', 'label': 'female'},\n",
       " {'name': 'Harlie', 'label': 'female'},\n",
       " {'name': 'Harmonie', 'label': 'female'},\n",
       " {'name': 'Harmony', 'label': 'female'},\n",
       " {'name': 'Harriet', 'label': 'female'},\n",
       " {'name': 'Harriett', 'label': 'female'},\n",
       " {'name': 'Harriot', 'label': 'female'},\n",
       " {'name': 'Harriott', 'label': 'female'},\n",
       " {'name': 'Hayley', 'label': 'female'},\n",
       " {'name': 'Hazel', 'label': 'female'},\n",
       " {'name': 'Heather', 'label': 'female'},\n",
       " {'name': 'Hedvig', 'label': 'female'},\n",
       " {'name': 'Hedwig', 'label': 'female'},\n",
       " {'name': 'Hester', 'label': 'female'},\n",
       " {'name': 'Hesther', 'label': 'female'},\n",
       " {'name': 'Hilary', 'label': 'female'},\n",
       " {'name': 'Hildagard', 'label': 'female'},\n",
       " {'name': 'Hildegaard', 'label': 'female'},\n",
       " {'name': 'Hillary', 'label': 'female'},\n",
       " {'name': 'Hilliary', 'label': 'female'},\n",
       " {'name': 'Holley', 'label': 'female'},\n",
       " {'name': 'Holly', 'label': 'female'},\n",
       " {'name': 'Hope', 'label': 'female'},\n",
       " {'name': 'Hortense', 'label': 'female'},\n",
       " {'name': 'Ikey', 'label': 'female'},\n",
       " {'name': 'Inger', 'label': 'female'},\n",
       " {'name': 'Isador', 'label': 'female'},\n",
       " {'name': 'Jamie', 'label': 'female'},\n",
       " {'name': 'Jan', 'label': 'female'},\n",
       " {'name': 'Janot', 'label': 'female'},\n",
       " {'name': 'Jean', 'label': 'female'},\n",
       " {'name': 'Jen', 'label': 'female'},\n",
       " {'name': 'Jere', 'label': 'female'},\n",
       " {'name': 'Jess', 'label': 'female'},\n",
       " {'name': 'Jo', 'label': 'female'},\n",
       " {'name': 'Jody', 'label': 'female'},\n",
       " {'name': 'Joey', 'label': 'female'},\n",
       " {'name': 'Johannah', 'label': 'female'},\n",
       " {'name': 'Jordain', 'label': 'female'},\n",
       " {'name': 'Jordan', 'label': 'female'},\n",
       " {'name': 'Joscelin', 'label': 'female'},\n",
       " {'name': 'Josey', 'label': 'female'},\n",
       " {'name': 'Jourdan', 'label': 'female'},\n",
       " {'name': 'Joy', 'label': 'female'},\n",
       " {'name': 'Joyous', 'label': 'female'},\n",
       " {'name': 'Judith', 'label': 'female'},\n",
       " {'name': 'Judy', 'label': 'female'},\n",
       " {'name': 'Justin', 'label': 'female'},\n",
       " {'name': 'Kaster', 'label': 'female'},\n",
       " {'name': 'Kevyn', 'label': 'female'},\n",
       " {'name': 'Konstance', 'label': 'female'},\n",
       " {'name': 'Koo', 'label': 'female'},\n",
       " {'name': 'Lark', 'label': 'female'},\n",
       " {'name': 'Leigh', 'label': 'female'},\n",
       " {'name': 'Leland', 'label': 'female'},\n",
       " {'name': 'Lesley', 'label': 'female'},\n",
       " {'name': 'Lesly', 'label': 'female'},\n",
       " {'name': 'Lind', 'label': 'female'},\n",
       " {'name': 'Lust', 'label': 'female'},\n",
       " {'name': 'Mair', 'label': 'female'},\n",
       " {'name': 'Manon', 'label': 'female'},\n",
       " {'name': 'Marigold', 'label': 'female'},\n",
       " {'name': 'Marlo', 'label': 'female'},\n",
       " {'name': 'Matty', 'label': 'female'},\n",
       " {'name': 'Maud', 'label': 'female'},\n",
       " {'name': 'Max', 'label': 'female'},\n",
       " {'name': 'Mead', 'label': 'female'},\n",
       " {'name': 'Meagan', 'label': 'female'},\n",
       " {'name': 'Meaghan', 'label': 'female'},\n",
       " {'name': 'Merrill', 'label': 'female'},\n",
       " {'name': 'Michal', 'label': 'female'},\n",
       " {'name': 'Michel', 'label': 'female'},\n",
       " {'name': 'Michell', 'label': 'female'},\n",
       " {'name': 'Mikako', 'label': 'female'},\n",
       " {'name': 'Mildred', 'label': 'female'},\n",
       " {'name': 'Milicent', 'label': 'female'},\n",
       " {'name': 'Milissent', 'label': 'female'},\n",
       " {'name': 'Millicent', 'label': 'female'},\n",
       " {'name': 'Millisent', 'label': 'female'},\n",
       " {'name': 'Morgan', 'label': 'female'},\n",
       " {'name': 'Muffin', 'label': 'female'},\n",
       " {'name': 'Muire', 'label': 'female'},\n",
       " {'name': 'Mureil', 'label': 'female'},\n",
       " {'name': 'Muriel', 'label': 'female'},\n",
       " {'name': 'Nat', 'label': 'female'},\n",
       " {'name': 'Neely', 'label': 'female'},\n",
       " {'name': 'Nert', 'label': 'female'},\n",
       " {'name': 'Nichol', 'label': 'female'},\n",
       " {'name': 'Nicky', 'label': 'female'},\n",
       " {'name': 'Nil', 'label': 'female'},\n",
       " {'name': 'Paige', 'label': 'female'},\n",
       " {'name': 'Pam', 'label': 'female'},\n",
       " {'name': 'Pat', 'label': 'female'},\n",
       " {'name': 'Patience', 'label': 'female'},\n",
       " {'name': 'Patsy', 'label': 'female'},\n",
       " {'name': 'Pen', 'label': 'female'},\n",
       " {'name': 'Pier', 'label': 'female'},\n",
       " {'name': 'Piper', 'label': 'female'},\n",
       " {'name': 'Pooh', 'label': 'female'},\n",
       " {'name': 'Quentin', 'label': 'female'},\n",
       " {'name': 'Quinn', 'label': 'female'},\n",
       " {'name': 'Raf', 'label': 'female'},\n",
       " {'name': 'Ragnhild', 'label': 'female'},\n",
       " {'name': 'Rahal', 'label': 'female'},\n",
       " {'name': 'Rahel', 'label': 'female'},\n",
       " {'name': 'Rakel', 'label': 'female'},\n",
       " {'name': 'Randie', 'label': 'female'},\n",
       " {'name': 'Raquel', 'label': 'female'},\n",
       " {'name': 'Raven', 'label': 'female'},\n",
       " {'name': 'Ray', 'label': 'female'},\n",
       " {'name': 'Raychel', 'label': 'female'},\n",
       " {'name': 'Raynell', 'label': 'female'},\n",
       " {'name': 'Rayshell', 'label': 'female'},\n",
       " {'name': 'Regan', 'label': 'female'},\n",
       " {'name': 'Reggie', 'label': 'female'},\n",
       " {'name': 'Reiko', 'label': 'female'},\n",
       " {'name': 'Remy', 'label': 'female'},\n",
       " {'name': 'Renae', 'label': 'female'},\n",
       " {'name': 'Renell', 'label': 'female'},\n",
       " {'name': 'Rey', 'label': 'female'},\n",
       " {'name': 'Ricki', 'label': 'female'},\n",
       " {'name': 'Rickie', 'label': 'female'},\n",
       " {'name': 'Ricky', 'label': 'female'},\n",
       " {'name': 'Robbin', 'label': 'female'},\n",
       " {'name': 'Robin', 'label': 'female'},\n",
       " {'name': 'Robinet', 'label': 'female'},\n",
       " {'name': 'Robinett', 'label': 'female'},\n",
       " {'name': 'Roch', 'label': 'female'},\n",
       " {'name': 'Rochell', 'label': 'female'},\n",
       " {'name': 'Romy', 'label': 'female'},\n",
       " {'name': 'Ronny', 'label': 'female'},\n",
       " {'name': 'Rory', 'label': 'female'},\n",
       " {'name': 'Ros', 'label': 'female'},\n",
       " {'name': 'Row', 'label': 'female'},\n",
       " {'name': 'Rowe', 'label': 'female'},\n",
       " {'name': 'Sal', 'label': 'female'},\n",
       " {'name': 'Salome', 'label': 'female'},\n",
       " {'name': 'Sam', 'label': 'female'},\n",
       " {'name': 'Sammy', 'label': 'female'},\n",
       " {'name': 'Sayre', 'label': 'female'},\n",
       " {'name': 'Scarlet', 'label': 'female'},\n",
       " {'name': 'Scarlett', 'label': 'female'},\n",
       " {'name': 'Scotty', 'label': 'female'},\n",
       " {'name': 'Sean', 'label': 'female'},\n",
       " {'name': 'Shel', 'label': 'female'},\n",
       " {'name': 'Shelby', 'label': 'female'},\n",
       " {'name': 'Shell', 'label': 'female'},\n",
       " {'name': 'Shelley', 'label': 'female'},\n",
       " {'name': 'Sher', 'label': 'female'},\n",
       " {'name': 'Sib', 'label': 'female'},\n",
       " {'name': 'Sidoney', 'label': 'female'},\n",
       " {'name': 'Sigrid', 'label': 'female'},\n",
       " {'name': 'Sileas', 'label': 'female'},\n",
       " {'name': 'Silvie', 'label': 'female'},\n",
       " {'name': 'Sinead', 'label': 'female'},\n",
       " {'name': 'Siobhan', 'label': 'female'},\n",
       " {'name': 'Sonny', 'label': 'female'},\n",
       " {'name': 'Stace', 'label': 'female'},\n",
       " {'name': 'Stacey', 'label': 'female'},\n",
       " {'name': 'Stacy', 'label': 'female'},\n",
       " {'name': 'Star', 'label': 'female'},\n",
       " {'name': 'Starr', 'label': 'female'},\n",
       " {'name': 'Stoddard', 'label': 'female'},\n",
       " {'name': 'Sydney', 'label': 'female'},\n",
       " {'name': 'Tabby', 'label': 'female'},\n",
       " {'name': 'Taffy', 'label': 'female'},\n",
       " {'name': 'Tamar', 'label': 'female'},\n",
       " {'name': 'Tammy', 'label': 'female'},\n",
       " {'name': 'Ted', 'label': 'female'},\n",
       " {'name': 'Teddy', 'label': 'female'},\n",
       " {'name': 'Terri-Jo', 'label': 'female'},\n",
       " {'name': 'Theo', 'label': 'female'},\n",
       " {'name': 'Thomasin', 'label': 'female'},\n",
       " {'name': 'Tiff', 'label': 'female'},\n",
       " {'name': 'Tim', 'label': 'female'},\n",
       " {'name': 'Timmie', 'label': 'female'},\n",
       " {'name': 'Timmy', 'label': 'female'},\n",
       " {'name': 'Tish', 'label': 'female'},\n",
       " {'name': 'Tobe', 'label': 'female'},\n",
       " {'name': 'Tobie', 'label': 'female'},\n",
       " {'name': 'Toby', 'label': 'female'},\n",
       " {'name': 'Tommie', 'label': 'female'},\n",
       " {'name': 'Tommy', 'label': 'female'},\n",
       " {'name': 'Tony', 'label': 'female'},\n",
       " {'name': 'Torey', 'label': 'female'},\n",
       " {'name': 'Torrie', 'label': 'female'},\n",
       " {'name': 'Tory', 'label': 'female'},\n",
       " {'name': 'Tove', 'label': 'female'},\n",
       " {'name': 'Trace', 'label': 'female'},\n",
       " {'name': 'Tracey', 'label': 'female'},\n",
       " {'name': 'Tracy', 'label': 'female'},\n",
       " {'name': 'Tuesday', 'label': 'female'},\n",
       " {'name': 'Ulrike', 'label': 'female'},\n",
       " {'name': 'Val', 'label': 'female'},\n",
       " {'name': 'Van', 'label': 'female'},\n",
       " {'name': 'Velvet', 'label': 'female'},\n",
       " {'name': 'Venus', 'label': 'female'},\n",
       " {'name': 'Vin', 'label': 'female'},\n",
       " {'name': 'Wallie', 'label': 'female'},\n",
       " {'name': 'Wallis', 'label': 'female'},\n",
       " {'name': 'Wally', 'label': 'female'},\n",
       " {'name': 'Waly', 'label': 'female'},\n",
       " {'name': 'Wandis', 'label': 'female'},\n",
       " {'name': 'Whitney', 'label': 'female'},\n",
       " {'name': 'Wileen', 'label': 'female'},\n",
       " {'name': 'Willie', 'label': 'female'},\n",
       " {'name': 'Willow', 'label': 'female'},\n",
       " {'name': 'Willy', 'label': 'female'},\n",
       " {'name': 'Willyt', 'label': 'female'},\n",
       " {'name': 'Wilow', 'label': 'female'},\n",
       " {'name': 'Windy', 'label': 'female'},\n",
       " {'name': 'Wini', 'label': 'female'},\n",
       " {'name': 'Winifred', 'label': 'female'},\n",
       " {'name': 'Winnifred', 'label': 'female'},\n",
       " {'name': 'Winny', 'label': 'female'},\n",
       " {'name': 'Wren', 'label': 'female'},\n",
       " {'name': 'Wynn', 'label': 'female'},\n",
       " {'name': 'Wynnie', 'label': 'female'},\n",
       " {'name': 'Wynny', 'label': 'female'}]"
      ]
     },
     "execution_count": 27,
     "metadata": {},
     "output_type": "execute_result"
    }
   ],
   "source": [
    "# print gender classifier errors so we can design new features to identify the cases\n",
    "errors = []\n",
    "\n",
    "for (name,label) in names:\n",
    "    if bayes.classify(extract_gender_features(name)) != label:\n",
    "        errors.append({\"name\": name, \"label\": label})\n",
    "\n",
    "\n",
    "errors\n",
    "\n"
   ]
  },
  {
   "cell_type": "markdown",
   "metadata": {},
   "source": [
    "** 5.2 Sentiment Analysis **"
   ]
  },
  {
   "cell_type": "code",
   "execution_count": 29,
   "metadata": {},
   "outputs": [],
   "source": [
    "# movie reviews / sentiment analysis - part #1\n",
    "from nltk.corpus import movie_reviews as reviews\n",
    "import random\n",
    "\n",
    "docs = [(list(reviews.words(id)), cat)  for cat in reviews.categories() for id in reviews.fileids(cat)]\n",
    "random.shuffle(docs)\n",
    "\n",
    "#print([ (len(d[0]), d[0][:2], d[1]) for d in docs[:10]])\n",
    "\n",
    "fd = nltk.FreqDist(word.lower() for word in reviews.words())\n",
    "topKeys = [ key for (key,value) in fd.most_common(2000)]"
   ]
  },
  {
   "cell_type": "code",
   "execution_count": 30,
   "metadata": {},
   "outputs": [
    {
     "name": "stdout",
     "output_type": "stream",
     "text": [
      "train accuracy= 0.871875\n",
      "test accuracy= 0.78\n",
      "Most Informative Features\n",
      "             outstanding = True              pos : neg    =     10.4 : 1.0\n",
      "                   damon = True              pos : neg    =      9.8 : 1.0\n",
      "                   mulan = True              pos : neg    =      8.0 : 1.0\n",
      "                  poorly = True              neg : pos    =      7.1 : 1.0\n",
      "              ridiculous = True              neg : pos    =      6.5 : 1.0\n",
      "             wonderfully = True              pos : neg    =      6.5 : 1.0\n",
      "                  seagal = True              neg : pos    =      6.3 : 1.0\n",
      "                   flynt = True              pos : neg    =      5.9 : 1.0\n",
      "                   awful = True              neg : pos    =      5.6 : 1.0\n",
      "               portrayal = True              pos : neg    =      5.0 : 1.0\n",
      "                  wasted = True              neg : pos    =      4.9 : 1.0\n",
      "                   clich = True              neg : pos    =      4.9 : 1.0\n",
      "               pointless = True              neg : pos    =      4.8 : 1.0\n",
      "                   waste = True              neg : pos    =      4.7 : 1.0\n",
      "                terrific = True              pos : neg    =      4.6 : 1.0\n",
      "                    lame = True              neg : pos    =      4.6 : 1.0\n",
      "                     era = True              pos : neg    =      4.4 : 1.0\n",
      "                   bland = True              neg : pos    =      4.4 : 1.0\n",
      "                   hanks = True              pos : neg    =      4.3 : 1.0\n",
      "               memorable = True              pos : neg    =      4.2 : 1.0\n"
     ]
    }
   ],
   "source": [
    "# movie reviews sentiment analysis - part #2\n",
    "import nltk\n",
    "\n",
    "\n",
    "def review_features(doc):\n",
    "    docSet = set(doc)\n",
    "    features = {}\n",
    "    \n",
    "    for word in topKeys:\n",
    "        features[word] = (word in docSet)\n",
    "        \n",
    "    return features\n",
    "\n",
    "#review_features(reviews.words(\"pos/cv957_8737.txt\"))\n",
    "\n",
    "data = [(review_features(doc), label) for (doc,label) in docs]\n",
    "\n",
    "dataCount = len(data)\n",
    "trainCount = int(.8*dataCount)\n",
    "\n",
    "trainData = data[:trainCount]\n",
    "testData = data[trainCount:]\n",
    "bayes2 = nltk.NaiveBayesClassifier.train(trainData)\n",
    "\n",
    "print(\"train accuracy=\", nltk.classify.accuracy(bayes2, trainData))\n",
    "print(\"test accuracy=\", nltk.classify.accuracy(bayes2, testData))\n",
    "\n",
    "bayes2.show_most_informative_features(20)\n",
    "\n"
   ]
  },
  {
   "cell_type": "markdown",
   "metadata": {},
   "source": [
    "** 5.3 Named Entity Recognition (NER) **\n",
    "\n",
    "Popular Named Entity Types:\n",
    "  - ORGANIZATION\n",
    "  - PERSON\n",
    "  - LOCATION\n",
    "  - GPE\n",
    "  - DATE\n",
    "  \n",
    "Named Entity Extraction Techniques:\n",
    "  - Chunking (tag pattern to group)\n",
    "  - Chinking (tag pattern to omit)\n",
    "  - Nested chunks (recursion)\n",
    "  - Hand-crafted rules\n",
    "  - Rules learned from data"
   ]
  },
  {
   "cell_type": "code",
   "execution_count": 31,
   "metadata": {},
   "outputs": [
    {
     "name": "stdout",
     "output_type": "stream",
     "text": [
      "Tree('S', [Tree('NP', [('the', 'DT'), ('little', 'JJ'), ('yellow', 'JJ'), ('dog', 'NN')]), ('barked', 'VBD'), ('at', 'IN'), Tree('NP', [('the', 'DT'), ('cat', 'NN')])])\n"
     ]
    }
   ],
   "source": [
    "# Named Entity Regcognition (NER) \n",
    "# processes sentences and produces (entity, relation, entity) triples!\n",
    "import nltk\n",
    "\n",
    "# first, process the document by separating the text into sentences, then words within sentences, then tag words by sentence\n",
    "def preprocess(doc):\n",
    "    sents = nltk.sent_tokenize(doc) \n",
    "    sents2 = [nltk.word_tokenize(sent) for sent in sents]\n",
    "    sents3 = [nltk.pos_tag(sent) for sent in sents2]\n",
    "    \n",
    "# we are going to use a technique called CHUNKING where we label sequences of POS tags as a high level tag, like a \n",
    "# noun phrase (NP).  \n",
    "\n",
    "# here we test our idea with a simple sentence, and a grammar for detectecting NP.  The grammar:\n",
    "#  <NP>  ::= [ <DT> ] [ <JJ list> ] <NN>\n",
    "\n",
    "tagged_sent = [(\"the\", \"DT\"), (\"little\", \"JJ\"), (\"yellow\", \"JJ\"), (\"dog\", \"NN\"), (\"barked\", \"VBD\"), (\"at\", \"IN\"),\n",
    "              (\"the\", \"DT\"), (\"cat\", \"NN\")]\n",
    "\n",
    "#np_grammar = \"NP: {<DT>?<JJ>*<NN>}\"\n",
    "#np_grammar = \"NP: {<DT>?<JJ.*>*<NN.*>*}\"\n",
    "\n",
    "np_grammar = r\"\"\" \n",
    "    NP:  \n",
    "      {<DT|PP\\$>?<JJ>*<NN>}\n",
    "      {<NPP>+}\n",
    "      \"\"\"\n",
    "\n",
    "parser = nltk.RegexpParser(np_grammar)\n",
    "result = parser.parse(tagged_sent)\n",
    "\n",
    "print(result.__repr__())\n"
   ]
  },
  {
   "cell_type": "code",
   "execution_count": null,
   "metadata": {},
   "outputs": [],
   "source": []
  }
 ],
 "metadata": {
  "anaconda-cloud": {},
  "kernelspec": {
   "display_name": "Python 3",
   "language": "python",
   "name": "python3"
  },
  "language_info": {
   "codemirror_mode": {
    "name": "ipython",
    "version": 3
   },
   "file_extension": ".py",
   "mimetype": "text/x-python",
   "name": "python",
   "nbconvert_exporter": "python",
   "pygments_lexer": "ipython3",
   "version": "3.6.5"
  }
 },
 "nbformat": 4,
 "nbformat_minor": 1
}
